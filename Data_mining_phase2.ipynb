{
  "nbformat": 4,
  "nbformat_minor": 0,
  "metadata": {
    "colab": {
      "provenance": [],
      "collapsed_sections": [
        "ms0oomaJc1F8",
        "iMh8c6z2uD7C",
        "R_0euqtVuTdm",
        "HIO7jkQguaOw",
        "2Xh7a2Z0puAS",
        "K-aLduVTpxEj",
        "rgupa4V4p7bs"
      ]
    },
    "kernelspec": {
      "name": "python3",
      "display_name": "Python 3"
    },
    "language_info": {
      "name": "python"
    }
  },
  "cells": [
    {
      "cell_type": "code",
      "execution_count": null,
      "metadata": {
        "id": "tndjyvdowcaA"
      },
      "outputs": [],
      "source": [
        "import numpy as np\n",
        "import pandas as pd\n",
        "import matplotlib.pyplot as plt"
      ]
    },
    {
      "cell_type": "code",
      "source": [
        "# Mount Google Drive\n",
        "from google.colab import drive\n",
        "drive.mount('/content/drive')"
      ],
      "metadata": {
        "colab": {
          "base_uri": "https://localhost:8080/"
        },
        "id": "ouOTfFjGwo6s",
        "outputId": "a7bfda92-4936-4c4f-cc64-c2dd7bf73837"
      },
      "execution_count": null,
      "outputs": [
        {
          "output_type": "stream",
          "name": "stdout",
          "text": [
            "Mounted at /content/drive\n"
          ]
        }
      ]
    },
    {
      "cell_type": "code",
      "source": [
        "!cp drive/MyDrive/data-mining/* ./"
      ],
      "metadata": {
        "id": "lZsMOvyvwq9I"
      },
      "execution_count": null,
      "outputs": []
    },
    {
      "cell_type": "code",
      "source": [
        "INOUT = pd.read_csv('INOUT.csv')\n",
        "INOUT.name = \"INOUT\"\n",
        "\n",
        "INOUTLINE = pd.read_csv('INOUTLINE.csv')\n",
        "INOUTLINE.name = \"INOUTLINE\"\n",
        "\n",
        "PRODUCTS = pd.read_csv('PRODUCTS.csv')\n",
        "PRODUCTS.name = \"PRODUCTS\"\n",
        "\n",
        "TRANSFER_ITEM = pd.read_csv('TRANSFER_ITEM.csv')\n",
        "TRANSFER_ITEM.name = \"TRANSFER_ITEM\"\n",
        "\n",
        "TRANSFER_ITEM_D = pd.read_csv('TRANSFER_ITEM_D.csv')\n",
        "TRANSFER_ITEM_D.name = \"TRANSFER_ITEM_D\"\n",
        "\n",
        "PRODUCTINSTANCE = pd.read_csv('PRODUCTINSTANCE.csv', encoding='cp1258', low_memory=False)\n",
        "PRODUCTINSTANCE.name = \"PRODUCTINSTANCE\""
      ],
      "metadata": {
        "colab": {
          "base_uri": "https://localhost:8080/"
        },
        "id": "ModQfOI5wvee",
        "outputId": "55b3669f-4b7e-4642-e7f2-0b2268a50a18"
      },
      "execution_count": null,
      "outputs": [
        {
          "output_type": "stream",
          "name": "stderr",
          "text": [
            "/usr/local/lib/python3.8/dist-packages/IPython/core/interactiveshell.py:3326: DtypeWarning: Columns (8,12,32,39,40,41,44,51) have mixed types.Specify dtype option on import or set low_memory=False.\n",
            "  exec(code_obj, self.user_global_ns, self.user_ns)\n",
            "/usr/local/lib/python3.8/dist-packages/IPython/core/interactiveshell.py:3326: DtypeWarning: Columns (8,26,68,69,70,84,88) have mixed types.Specify dtype option on import or set low_memory=False.\n",
            "  exec(code_obj, self.user_global_ns, self.user_ns)\n",
            "/usr/local/lib/python3.8/dist-packages/IPython/core/interactiveshell.py:3326: DtypeWarning: Columns (0,1,2,12,13,14,15,16,17,18,24,26,29) have mixed types.Specify dtype option on import or set low_memory=False.\n",
            "  exec(code_obj, self.user_global_ns, self.user_ns)\n"
          ]
        }
      ]
    },
    {
      "cell_type": "markdown",
      "source": [
        "#Utils"
      ],
      "metadata": {
        "id": "9uB7ey7QMWYR"
      }
    },
    {
      "cell_type": "code",
      "source": [
        "def countRecords(df):\n",
        "   return df.shape[0]\n",
        ""
      ],
      "metadata": {
        "id": "a1JNRkOI2nRS"
      },
      "execution_count": null,
      "outputs": []
    },
    {
      "cell_type": "code",
      "source": [
        "def countNull(df):\n",
        "  return df.isnull().sum()"
      ],
      "metadata": {
        "id": "yKpSnEFU2dzX"
      },
      "execution_count": null,
      "outputs": []
    },
    {
      "cell_type": "code",
      "source": [
        "def countNotNull(df, col_name):\n",
        "  total_count = countRecords(df)\n",
        "  null_count = int(countNull(df[col_name].to_frame()))\n",
        "  count = total_count - null_count\n",
        "\n",
        "  return count"
      ],
      "metadata": {
        "id": "gNZddfwvivMJ"
      },
      "execution_count": null,
      "outputs": []
    },
    {
      "cell_type": "code",
      "source": [
        "def completeness(df):\n",
        "  count = countRecords(df)\n",
        "  result = count - countNull(df)\n",
        "  return (result / count) * 100"
      ],
      "metadata": {
        "id": "FYlbotdfpQIF"
      },
      "execution_count": null,
      "outputs": []
    },
    {
      "cell_type": "code",
      "source": [
        "def validity(df, col_name, possible_values):\n",
        "  column = df.loc[:,col_name]\n",
        "\n",
        "  # count the number of valid values\n",
        "  valid = 0\n",
        "  for i in range(len(column)):\n",
        "    if column[i] in possible_values:\n",
        "      valid += 1\n",
        "\n",
        "  result = (valid / countNotNull(df, col_name)) * 100\n",
        "  print(result)"
      ],
      "metadata": {
        "id": "3UXiaQIcJVhQ"
      },
      "execution_count": null,
      "outputs": []
    },
    {
      "cell_type": "code",
      "source": [
        "def validityInRange(df, col_name, numeric_range):\n",
        "  column = df.loc[:,col_name]\n",
        "  valid = 0\n",
        "\n",
        "  for i in range(len(column)):\n",
        "    if column[i] != 'null':\n",
        "      if column[i] >= numeric_range[0] and column[i] <= numeric_range[1]:\n",
        "        valid += 1\n",
        "\n",
        "  result = (valid / countNotNull(df, col_name)) * 100\n",
        "  print(result)"
      ],
      "metadata": {
        "id": "ipydyHe4wnLo"
      },
      "execution_count": null,
      "outputs": []
    },
    {
      "cell_type": "markdown",
      "source": [
        "#Question 2"
      ],
      "metadata": {
        "id": "NE5JayBie7Zi"
      }
    },
    {
      "cell_type": "markdown",
      "source": [
        "##single source"
      ],
      "metadata": {
        "id": "e0dXz57be9s_"
      }
    },
    {
      "cell_type": "markdown",
      "source": [
        "###schema"
      ],
      "metadata": {
        "id": "k-ZW5kEKfDx4"
      }
    },
    {
      "cell_type": "markdown",
      "source": [
        "####primary key"
      ],
      "metadata": {
        "id": "bz3YVNd4fo8G"
      }
    },
    {
      "cell_type": "code",
      "source": [
        "INOUT.loc[:,'INOUT_ID'].is_unique"
      ],
      "metadata": {
        "colab": {
          "base_uri": "https://localhost:8080/"
        },
        "id": "2VAP0XSkgGCa",
        "outputId": "66b26e82-16dc-4c39-bf44-fd7aa73f1cd8"
      },
      "execution_count": null,
      "outputs": [
        {
          "output_type": "execute_result",
          "data": {
            "text/plain": [
              "True"
            ]
          },
          "metadata": {},
          "execution_count": 10
        }
      ]
    },
    {
      "cell_type": "code",
      "source": [
        "INOUTLINE.loc[:,'INOUTLINE_ID'].is_unique"
      ],
      "metadata": {
        "colab": {
          "base_uri": "https://localhost:8080/"
        },
        "id": "7wT5DA8CgULN",
        "outputId": "5ee7a0df-1ca3-426c-859c-23b18bb2c5ac"
      },
      "execution_count": null,
      "outputs": [
        {
          "output_type": "execute_result",
          "data": {
            "text/plain": [
              "True"
            ]
          },
          "metadata": {},
          "execution_count": 12
        }
      ]
    },
    {
      "cell_type": "code",
      "source": [
        "TRANSFER_ITEM.loc[:,'TRANSFER_ITEM_ID'].is_unique"
      ],
      "metadata": {
        "colab": {
          "base_uri": "https://localhost:8080/"
        },
        "id": "-H1-s5AWgdCt",
        "outputId": "44f22d6d-0beb-4971-bcfb-ac8dacb7b5c6"
      },
      "execution_count": null,
      "outputs": [
        {
          "output_type": "execute_result",
          "data": {
            "text/plain": [
              "True"
            ]
          },
          "metadata": {},
          "execution_count": 13
        }
      ]
    },
    {
      "cell_type": "code",
      "source": [
        "TRANSFER_ITEM_D.loc[:,'TRANSFER_ITEM_D_ID'].is_unique"
      ],
      "metadata": {
        "colab": {
          "base_uri": "https://localhost:8080/"
        },
        "id": "OMgPdnhwgi2r",
        "outputId": "10cad3ea-634b-4416-d0b1-1797eae7659f"
      },
      "execution_count": null,
      "outputs": [
        {
          "output_type": "execute_result",
          "data": {
            "text/plain": [
              "False"
            ]
          },
          "metadata": {},
          "execution_count": 14
        }
      ]
    },
    {
      "cell_type": "code",
      "source": [
        "PRODUCTS.loc[:,'M_PRODUCT_ID'].is_unique"
      ],
      "metadata": {
        "colab": {
          "base_uri": "https://localhost:8080/"
        },
        "id": "zZmrN39LgpRr",
        "outputId": "eac4ae35-1ede-4771-cf85-c547b27b3151"
      },
      "execution_count": null,
      "outputs": [
        {
          "output_type": "execute_result",
          "data": {
            "text/plain": [
              "True"
            ]
          },
          "metadata": {},
          "execution_count": 15
        }
      ]
    },
    {
      "cell_type": "code",
      "source": [
        "PRODUCTINSTANCE.loc[:,'PRODUCTINSTANCE_ID'].is_unique"
      ],
      "metadata": {
        "colab": {
          "base_uri": "https://localhost:8080/"
        },
        "id": "S2YewMh_gwgL",
        "outputId": "a6e9bb2a-12f6-420f-ac6a-d27ee465f5fb"
      },
      "execution_count": null,
      "outputs": [
        {
          "output_type": "execute_result",
          "data": {
            "text/plain": [
              "False"
            ]
          },
          "metadata": {},
          "execution_count": 16
        }
      ]
    },
    {
      "cell_type": "markdown",
      "source": [
        "####foreign key"
      ],
      "metadata": {
        "id": "nqIFcWGuEyyt"
      }
    },
    {
      "cell_type": "code",
      "source": [
        "keys = ['INOUT_ID','INOUTLINE_ID','TRANSFER_ITEM_ID','TRANSFER_ITEM_D_ID','M_PRODUCT_ID','PRODUCTINSTANCE_ID']\n",
        "\n",
        "prm_keys_dictionary = {\n",
        "  'INOUT_ID': INOUT,\n",
        "  'INOUTLINE_ID': INOUTLINE,\n",
        "  'TRANSFER_ITEM_ID': TRANSFER_ITEM,\n",
        "  'TRANSFER_ITEM_D_ID': TRANSFER_ITEM_D,\n",
        "  'M_PRODUCT_ID': PRODUCTS,\n",
        "  'PRODUCTINSTANCE_ID': PRODUCTINSTANCE\n",
        "}"
      ],
      "metadata": {
        "id": "uz-_MFgHE2v0"
      },
      "execution_count": null,
      "outputs": []
    },
    {
      "cell_type": "code",
      "source": [
        "def check_equality(serie1, serie2):\n",
        "  try:\n",
        "    cp_s1 = serie1.copy()\n",
        "    cp_s1.sort_values(inplace=True)\n",
        "\n",
        "    cp_s2 = serie2.copy()\n",
        "    cp_s2.sort_values(inplace=True)\n",
        "\n",
        "    return np.array_equal(cp_s1, cp_s2, equal_nan=False)\n",
        "  except (TypeError,ValueError):\n",
        "    return False"
      ],
      "metadata": {
        "id": "Xbz77Bgrcup1"
      },
      "execution_count": null,
      "outputs": []
    },
    {
      "cell_type": "code",
      "source": [
        "def find_fkey(df,prm_key):\n",
        "  fkeys = keys.copy()\n",
        "  fkeys.remove(prm_key)\n",
        "  column_headers = list(df.columns.values)\n",
        "\n",
        "  for i in column_headers:\n",
        "    if i in fkeys:\n",
        "      table = prm_keys_dictionary[i]\n",
        "      if not check_equality(table[i], df[i]):\n",
        "        print(f'records of {i} in its table \"{table.name}\" are not equal with the table \"{df.name}\"')\n",
        "      else:\n",
        "        print('records are the same in both tables')"
      ],
      "metadata": {
        "id": "pGw7RR-iFGuU"
      },
      "execution_count": null,
      "outputs": []
    },
    {
      "cell_type": "code",
      "source": [
        "find_fkey(INOUT,'INOUT_ID')"
      ],
      "metadata": {
        "colab": {
          "base_uri": "https://localhost:8080/"
        },
        "id": "oRXUydpDFdNJ",
        "outputId": "2d2f488e-8b0e-45fb-c796-6f44ff53d0d2"
      },
      "execution_count": null,
      "outputs": [
        {
          "output_type": "stream",
          "name": "stdout",
          "text": [
            "records of M_PRODUCT_ID in its table \"PRODUCTS\" are not equal with the table \"INOUT\"\n"
          ]
        }
      ]
    },
    {
      "cell_type": "code",
      "source": [
        "find_fkey(INOUTLINE,'INOUTLINE_ID')"
      ],
      "metadata": {
        "colab": {
          "base_uri": "https://localhost:8080/"
        },
        "id": "jGzhcK9hIUZj",
        "outputId": "bcb1acda-9d35-4677-f496-430b081ca4ee"
      },
      "execution_count": null,
      "outputs": [
        {
          "output_type": "stream",
          "name": "stdout",
          "text": [
            "records of INOUT_ID in its table \"INOUT\" are not equal with the table \"INOUTLINE\"\n",
            "records of M_PRODUCT_ID in its table \"PRODUCTS\" are not equal with the table \"INOUTLINE\"\n"
          ]
        }
      ]
    },
    {
      "cell_type": "code",
      "source": [
        "find_fkey(TRANSFER_ITEM_D,'TRANSFER_ITEM_D_ID')"
      ],
      "metadata": {
        "colab": {
          "base_uri": "https://localhost:8080/"
        },
        "id": "QZD4ZLFLI5z1",
        "outputId": "1c579916-7ac0-4164-f420-deb012e8301e"
      },
      "execution_count": null,
      "outputs": [
        {
          "output_type": "stream",
          "name": "stdout",
          "text": [
            "records of TRANSFER_ITEM_ID in its table \"TRANSFER_ITEM\" are not equal with the table \"TRANSFER_ITEM_D\"\n",
            "records of M_PRODUCT_ID in its table \"PRODUCTS\" are not equal with the table \"TRANSFER_ITEM_D\"\n"
          ]
        }
      ]
    },
    {
      "cell_type": "code",
      "source": [
        "find_fkey(PRODUCTINSTANCE,'PRODUCTINSTANCE_ID')"
      ],
      "metadata": {
        "colab": {
          "base_uri": "https://localhost:8080/"
        },
        "id": "617PZ-9mJ3iK",
        "outputId": "ff9bb993-d3c1-40dd-deb1-13e5ea64f708"
      },
      "execution_count": null,
      "outputs": [
        {
          "output_type": "stream",
          "name": "stdout",
          "text": [
            "records of M_PRODUCT_ID in its table \"PRODUCTS\" are not equal with the table \"PRODUCTINSTANCE\"\n"
          ]
        }
      ]
    },
    {
      "cell_type": "code",
      "source": [
        "find_fkey(TRANSFER_ITEM,'TRANSFER_ITEM_ID')"
      ],
      "metadata": {
        "id": "MGwNXylrIaJC"
      },
      "execution_count": null,
      "outputs": []
    },
    {
      "cell_type": "code",
      "source": [
        "find_fkey(PRODUCTS,'M_PRODUCT_ID')"
      ],
      "metadata": {
        "id": "Lach3u4BJFbs"
      },
      "execution_count": null,
      "outputs": []
    },
    {
      "cell_type": "markdown",
      "source": [
        "####data in domain range"
      ],
      "metadata": {
        "id": "5FsNWcVJjDwc"
      }
    },
    {
      "cell_type": "code",
      "source": [
        "validity(INOUT,\"C_DOCSTATUS_ID\",[3000025,3000006,3000018])\n",
        "validity(INOUT,\"ACCEPTANCETYPE\",['T','S','H'])\n",
        "validity(INOUT,\"ISACTIVE\",['Y','N','n','y'])"
      ],
      "metadata": {
        "colab": {
          "base_uri": "https://localhost:8080/"
        },
        "id": "eEJRKnaakI1Z",
        "outputId": "5b1e67d8-3d7a-407a-d8c1-6abd2e082e5f"
      },
      "execution_count": null,
      "outputs": [
        {
          "output_type": "stream",
          "name": "stdout",
          "text": [
            "99.97368421052632\n",
            "100.0\n",
            "100.0\n"
          ]
        }
      ]
    },
    {
      "cell_type": "code",
      "source": [
        "validity(PRODUCTINSTANCE,\"ISACTIVE\",['Y','N','n','y'])\n",
        "validity(PRODUCTINSTANCE,\"ISCONTROLAMVAL\",['Y','N','n','y'])\n",
        "\n",
        "validityInRange(PRODUCTINSTANCE, 'RETURNAMVALTOANBAR', [1,4])"
      ],
      "metadata": {
        "colab": {
          "base_uri": "https://localhost:8080/"
        },
        "id": "M1Sj_U4llwr2",
        "outputId": "f73f8a95-6a2c-4476-9cc6-faaf93f312b8"
      },
      "execution_count": null,
      "outputs": [
        {
          "output_type": "stream",
          "name": "stdout",
          "text": [
            "99.93419859066915\n",
            "43.37922007582596\n",
            "100.0\n"
          ]
        }
      ]
    },
    {
      "cell_type": "code",
      "source": [
        "validity(TRANSFER_ITEM,\"ISACTIVE\",['Y','N','n','y'])\n",
        "validity(TRANSFER_ITEM,\"ISCONTROL\",['Y','N','n','y'])"
      ],
      "metadata": {
        "colab": {
          "base_uri": "https://localhost:8080/"
        },
        "id": "kdMY3gtumtM5",
        "outputId": "f87afffc-0325-4aa8-9ad6-35574bcec80f"
      },
      "execution_count": null,
      "outputs": [
        {
          "output_type": "stream",
          "name": "stdout",
          "text": [
            "99.97650191900995\n",
            "100.0\n"
          ]
        }
      ]
    },
    {
      "cell_type": "code",
      "source": [
        "validity(TRANSFER_ITEM_D,\"ISACTIVE\",['Y','N','n','y'])"
      ],
      "metadata": {
        "colab": {
          "base_uri": "https://localhost:8080/"
        },
        "id": "7F-V1PWbnBHY",
        "outputId": "6b717349-5211-4bbf-d835-f3aaaeadb645"
      },
      "execution_count": null,
      "outputs": [
        {
          "output_type": "stream",
          "name": "stdout",
          "text": [
            "99.99194257743518\n"
          ]
        }
      ]
    },
    {
      "cell_type": "markdown",
      "source": [
        "###instance"
      ],
      "metadata": {
        "id": "bp-u1gjpo2Bb"
      }
    },
    {
      "cell_type": "markdown",
      "source": [
        "####missing values"
      ],
      "metadata": {
        "id": "rgoOM-27o_LQ"
      }
    },
    {
      "cell_type": "code",
      "source": [
        "def has_missing_value(df):\n",
        "  complete_list = completeness(df)\n",
        "  for i in range(len(complete_list)):\n",
        "    if complete_list[i] == 100.000000:\n",
        "      return f\"there is no missing value in {df.name}\"\n",
        "    else:\n",
        "      return f\"there exist missing values in {df.name}\""
      ],
      "metadata": {
        "id": "K3-Dz8XHpCF2"
      },
      "execution_count": null,
      "outputs": []
    },
    {
      "cell_type": "code",
      "source": [
        "has_missing_value(INOUT)"
      ],
      "metadata": {
        "colab": {
          "base_uri": "https://localhost:8080/"
        },
        "id": "5Xi7kaulsUri",
        "outputId": "17491eeb-04b0-474d-84f7-f07df42e0e0a"
      },
      "execution_count": null,
      "outputs": [
        {
          "output_type": "execute_result",
          "data": {
            "text/plain": [
              "'there is no missing value in INOUT'"
            ],
            "application/vnd.google.colaboratory.intrinsic+json": {
              "type": "string"
            }
          },
          "metadata": {},
          "execution_count": 97
        }
      ]
    },
    {
      "cell_type": "code",
      "source": [
        "has_missing_value(INOUTLINE)"
      ],
      "metadata": {
        "colab": {
          "base_uri": "https://localhost:8080/"
        },
        "id": "Qdz8KHENtkte",
        "outputId": "20c65348-6210-4a87-d68c-dc23cdd3d16a"
      },
      "execution_count": null,
      "outputs": [
        {
          "output_type": "execute_result",
          "data": {
            "text/plain": [
              "'there is no missing value in INOUTLINE'"
            ],
            "application/vnd.google.colaboratory.intrinsic+json": {
              "type": "string"
            }
          },
          "metadata": {},
          "execution_count": 98
        }
      ]
    },
    {
      "cell_type": "code",
      "source": [
        "has_missing_value(PRODUCTS)"
      ],
      "metadata": {
        "colab": {
          "base_uri": "https://localhost:8080/"
        },
        "id": "PQSO4uJStknf",
        "outputId": "abe5dab6-3d07-447a-84dd-d08da9239d2c"
      },
      "execution_count": null,
      "outputs": [
        {
          "output_type": "execute_result",
          "data": {
            "text/plain": [
              "'there is no missing value in PRODUCTS'"
            ],
            "application/vnd.google.colaboratory.intrinsic+json": {
              "type": "string"
            }
          },
          "metadata": {},
          "execution_count": 99
        }
      ]
    },
    {
      "cell_type": "code",
      "source": [
        "has_missing_value(TRANSFER_ITEM)"
      ],
      "metadata": {
        "colab": {
          "base_uri": "https://localhost:8080/"
        },
        "id": "LGEFn1-ltkfN",
        "outputId": "80e8a59c-5ca2-4da2-b22a-63ed6d0b3382"
      },
      "execution_count": null,
      "outputs": [
        {
          "output_type": "execute_result",
          "data": {
            "text/plain": [
              "'there is no missing value in TRANSFER_ITEM'"
            ],
            "application/vnd.google.colaboratory.intrinsic+json": {
              "type": "string"
            }
          },
          "metadata": {},
          "execution_count": 100
        }
      ]
    },
    {
      "cell_type": "code",
      "source": [
        "has_missing_value(TRANSFER_ITEM_D)"
      ],
      "metadata": {
        "colab": {
          "base_uri": "https://localhost:8080/"
        },
        "id": "h13iW6VltkST",
        "outputId": "d5ac1eae-3102-46d9-f747-953715409610"
      },
      "execution_count": null,
      "outputs": [
        {
          "output_type": "execute_result",
          "data": {
            "text/plain": [
              "'there exist missing values in TRANSFER_ITEM_D'"
            ],
            "application/vnd.google.colaboratory.intrinsic+json": {
              "type": "string"
            }
          },
          "metadata": {},
          "execution_count": 101
        }
      ]
    },
    {
      "cell_type": "code",
      "source": [
        "has_missing_value(PRODUCTINSTANCE)"
      ],
      "metadata": {
        "colab": {
          "base_uri": "https://localhost:8080/"
        },
        "id": "CTjQXqEutqdL",
        "outputId": "2e1347d3-43f7-4f1b-b5fb-d74c11fd840a"
      },
      "execution_count": null,
      "outputs": [
        {
          "output_type": "execute_result",
          "data": {
            "text/plain": [
              "'there exist missing values in PRODUCTINSTANCE'"
            ],
            "application/vnd.google.colaboratory.intrinsic+json": {
              "type": "string"
            }
          },
          "metadata": {},
          "execution_count": 102
        }
      ]
    },
    {
      "cell_type": "markdown",
      "source": [
        "####duplicated records"
      ],
      "metadata": {
        "id": "XBG-FXM4vniS"
      }
    },
    {
      "cell_type": "code",
      "source": [
        "def has_duplicated_value(df):\n",
        "  duplicated_list = df.duplicated(keep=False)\n",
        "  for i in range(len(duplicated_list)):\n",
        "    if duplicated_list[i] == True:\n",
        "      return f\"there exits duplicated record in {df.name}\"\n",
        "\n",
        "  return f\"there is no duplicated record in {df.name}\""
      ],
      "metadata": {
        "id": "At_FypFjxNrS"
      },
      "execution_count": null,
      "outputs": []
    },
    {
      "cell_type": "code",
      "source": [
        "has_duplicated_value(TRANSFER_ITEM_D)"
      ],
      "metadata": {
        "colab": {
          "base_uri": "https://localhost:8080/",
          "height": 36
        },
        "id": "LK_eGQnDx2QT",
        "outputId": "24572b1e-a4e4-46b0-818d-550b0fa2d772"
      },
      "execution_count": null,
      "outputs": [
        {
          "output_type": "execute_result",
          "data": {
            "text/plain": [
              "'there is no duplicated record in TRANSFER_ITEM_D'"
            ],
            "application/vnd.google.colaboratory.intrinsic+json": {
              "type": "string"
            }
          },
          "metadata": {},
          "execution_count": 93
        }
      ]
    },
    {
      "cell_type": "code",
      "source": [
        "has_duplicated_value(PRODUCTINSTANCE)"
      ],
      "metadata": {
        "colab": {
          "base_uri": "https://localhost:8080/",
          "height": 36
        },
        "id": "IrW7adgsyMaO",
        "outputId": "dac0f522-7fcb-4139-8be2-f65b13f81102"
      },
      "execution_count": null,
      "outputs": [
        {
          "output_type": "execute_result",
          "data": {
            "text/plain": [
              "'there exits duplicated record in PRODUCTINSTANCE'"
            ],
            "application/vnd.google.colaboratory.intrinsic+json": {
              "type": "string"
            }
          },
          "metadata": {},
          "execution_count": 94
        }
      ]
    },
    {
      "cell_type": "markdown",
      "source": [
        "##multi source"
      ],
      "metadata": {
        "id": "LkgcCZFYLcx6"
      }
    },
    {
      "cell_type": "markdown",
      "source": [
        "###schema"
      ],
      "metadata": {
        "id": "gtefs3rVLe1G"
      }
    },
    {
      "cell_type": "markdown",
      "source": [
        "####violated attribute dependencies"
      ],
      "metadata": {
        "id": "Gw9os167Lg1c"
      }
    },
    {
      "cell_type": "code",
      "source": [
        "REACHMENTDATE = TRANSFER_ITEM_D.loc[:,'REACHMENTDATE']\n",
        "OPERATIONDATE = TRANSFER_ITEM.loc[:,'OPERATIONDATE']\n",
        "\n",
        "TRANSFER_ITEM_D_ID = TRANSFER_ITEM_D.loc[:,'TRANSFER_ITEM_D_ID']\n",
        "TRANSFER_ITEM_ID = TRANSFER_ITEM.loc[:,'TRANSFER_ITEM_ID']"
      ],
      "metadata": {
        "id": "0XjFovjmpE_D"
      },
      "execution_count": null,
      "outputs": []
    },
    {
      "cell_type": "code",
      "source": [
        "from datetime import datetime"
      ],
      "metadata": {
        "id": "cXd3aGDsxgZq"
      },
      "execution_count": null,
      "outputs": []
    },
    {
      "cell_type": "code",
      "source": [
        "for i in range(len(TRANSFER_ITEM_D_ID)):\n",
        "  for j in range(len(TRANSFER_ITEM_ID)):\n",
        "    if TRANSFER_ITEM_D_ID[i] == TRANSFER_ITEM_ID[j]:\n",
        "      r = pd.to_datetime(REACHMENTDATE[i], format='%m/%d/%Y %I:%M:%S %p')\n",
        "      o = datetime.strptime(OPERATIONDATE[j], '%m/%d/%Y %I:%M:%S %p')\n",
        "      if r > o:\n",
        "        print('there is an violated attribute dependencies in REACHMENTDATE and OPERATIONDATE')"
      ],
      "metadata": {
        "colab": {
          "base_uri": "https://localhost:8080/",
          "height": 380
        },
        "id": "ZPa4N_wwpoRS",
        "outputId": "c1a67a90-6b89-40af-85a0-2269c14af183"
      },
      "execution_count": null,
      "outputs": [
        {
          "output_type": "error",
          "ename": "KeyboardInterrupt",
          "evalue": "ignored",
          "traceback": [
            "\u001b[0;31m---------------------------------------------------------------------------\u001b[0m",
            "\u001b[0;31mKeyboardInterrupt\u001b[0m                         Traceback (most recent call last)",
            "\u001b[0;32m<ipython-input-58-c9e321ee56ab>\u001b[0m in \u001b[0;36m<module>\u001b[0;34m\u001b[0m\n\u001b[1;32m      2\u001b[0m \u001b[0;32mfor\u001b[0m \u001b[0mi\u001b[0m \u001b[0;32min\u001b[0m \u001b[0mrange\u001b[0m\u001b[0;34m(\u001b[0m\u001b[0mlen\u001b[0m\u001b[0;34m(\u001b[0m\u001b[0mTRANSFER_ITEM_D_ID\u001b[0m\u001b[0;34m)\u001b[0m\u001b[0;34m)\u001b[0m\u001b[0;34m:\u001b[0m\u001b[0;34m\u001b[0m\u001b[0;34m\u001b[0m\u001b[0m\n\u001b[1;32m      3\u001b[0m   \u001b[0;32mfor\u001b[0m \u001b[0mj\u001b[0m \u001b[0;32min\u001b[0m \u001b[0mrange\u001b[0m\u001b[0;34m(\u001b[0m\u001b[0mlen\u001b[0m\u001b[0;34m(\u001b[0m\u001b[0mTRANSFER_ITEM_ID\u001b[0m\u001b[0;34m)\u001b[0m\u001b[0;34m)\u001b[0m\u001b[0;34m:\u001b[0m\u001b[0;34m\u001b[0m\u001b[0;34m\u001b[0m\u001b[0m\n\u001b[0;32m----> 4\u001b[0;31m     \u001b[0;32mif\u001b[0m \u001b[0mTRANSFER_ITEM_D_ID\u001b[0m\u001b[0;34m[\u001b[0m\u001b[0mi\u001b[0m\u001b[0;34m]\u001b[0m \u001b[0;34m==\u001b[0m \u001b[0mTRANSFER_ITEM_ID\u001b[0m\u001b[0;34m[\u001b[0m\u001b[0mj\u001b[0m\u001b[0;34m]\u001b[0m\u001b[0;34m:\u001b[0m\u001b[0;34m\u001b[0m\u001b[0;34m\u001b[0m\u001b[0m\n\u001b[0m\u001b[1;32m      5\u001b[0m       \u001b[0mr\u001b[0m \u001b[0;34m=\u001b[0m \u001b[0mpd\u001b[0m\u001b[0;34m.\u001b[0m\u001b[0mto_datetime\u001b[0m\u001b[0;34m(\u001b[0m\u001b[0mREACHMENTDATE\u001b[0m\u001b[0;34m[\u001b[0m\u001b[0mi\u001b[0m\u001b[0;34m]\u001b[0m\u001b[0;34m,\u001b[0m \u001b[0mformat\u001b[0m\u001b[0;34m=\u001b[0m\u001b[0;34m'%m/%d/%Y %I:%M:%S %p'\u001b[0m\u001b[0;34m)\u001b[0m\u001b[0;34m\u001b[0m\u001b[0;34m\u001b[0m\u001b[0m\n\u001b[1;32m      6\u001b[0m       \u001b[0mo\u001b[0m \u001b[0;34m=\u001b[0m \u001b[0mdatetime\u001b[0m\u001b[0;34m.\u001b[0m\u001b[0mstrptime\u001b[0m\u001b[0;34m(\u001b[0m\u001b[0mOPERATIONDATE\u001b[0m\u001b[0;34m[\u001b[0m\u001b[0mj\u001b[0m\u001b[0;34m]\u001b[0m\u001b[0;34m,\u001b[0m \u001b[0;34m'%m/%d/%Y %I:%M:%S %p'\u001b[0m\u001b[0;34m)\u001b[0m\u001b[0;34m\u001b[0m\u001b[0;34m\u001b[0m\u001b[0m\n",
            "\u001b[0;32m/usr/local/lib/python3.8/dist-packages/pandas/core/series.py\u001b[0m in \u001b[0;36m__getitem__\u001b[0;34m(self, key)\u001b[0m\n\u001b[1;32m    940\u001b[0m \u001b[0;34m\u001b[0m\u001b[0m\n\u001b[1;32m    941\u001b[0m         \u001b[0;32melif\u001b[0m \u001b[0mkey_is_scalar\u001b[0m\u001b[0;34m:\u001b[0m\u001b[0;34m\u001b[0m\u001b[0;34m\u001b[0m\u001b[0m\n\u001b[0;32m--> 942\u001b[0;31m             \u001b[0;32mreturn\u001b[0m \u001b[0mself\u001b[0m\u001b[0;34m.\u001b[0m\u001b[0m_get_value\u001b[0m\u001b[0;34m(\u001b[0m\u001b[0mkey\u001b[0m\u001b[0;34m)\u001b[0m\u001b[0;34m\u001b[0m\u001b[0;34m\u001b[0m\u001b[0m\n\u001b[0m\u001b[1;32m    943\u001b[0m \u001b[0;34m\u001b[0m\u001b[0m\n\u001b[1;32m    944\u001b[0m         \u001b[0;32mif\u001b[0m \u001b[0mis_hashable\u001b[0m\u001b[0;34m(\u001b[0m\u001b[0mkey\u001b[0m\u001b[0;34m)\u001b[0m\u001b[0;34m:\u001b[0m\u001b[0;34m\u001b[0m\u001b[0;34m\u001b[0m\u001b[0m\n",
            "\u001b[0;32m/usr/local/lib/python3.8/dist-packages/pandas/core/series.py\u001b[0m in \u001b[0;36m_get_value\u001b[0;34m(self, label, takeable)\u001b[0m\n\u001b[1;32m   1049\u001b[0m \u001b[0;34m\u001b[0m\u001b[0m\n\u001b[1;32m   1050\u001b[0m         \u001b[0;31m# Similar to Index.get_value, but we do not fall back to positional\u001b[0m\u001b[0;34m\u001b[0m\u001b[0;34m\u001b[0m\u001b[0;34m\u001b[0m\u001b[0m\n\u001b[0;32m-> 1051\u001b[0;31m         \u001b[0mloc\u001b[0m \u001b[0;34m=\u001b[0m \u001b[0mself\u001b[0m\u001b[0;34m.\u001b[0m\u001b[0mindex\u001b[0m\u001b[0;34m.\u001b[0m\u001b[0mget_loc\u001b[0m\u001b[0;34m(\u001b[0m\u001b[0mlabel\u001b[0m\u001b[0;34m)\u001b[0m\u001b[0;34m\u001b[0m\u001b[0;34m\u001b[0m\u001b[0m\n\u001b[0m\u001b[1;32m   1052\u001b[0m         \u001b[0;32mreturn\u001b[0m \u001b[0mself\u001b[0m\u001b[0;34m.\u001b[0m\u001b[0mindex\u001b[0m\u001b[0;34m.\u001b[0m\u001b[0m_get_values_for_loc\u001b[0m\u001b[0;34m(\u001b[0m\u001b[0mself\u001b[0m\u001b[0;34m,\u001b[0m \u001b[0mloc\u001b[0m\u001b[0;34m,\u001b[0m \u001b[0mlabel\u001b[0m\u001b[0;34m)\u001b[0m\u001b[0;34m\u001b[0m\u001b[0;34m\u001b[0m\u001b[0m\n\u001b[1;32m   1053\u001b[0m \u001b[0;34m\u001b[0m\u001b[0m\n",
            "\u001b[0;31mKeyboardInterrupt\u001b[0m: "
          ]
        }
      ]
    },
    {
      "cell_type": "markdown",
      "source": [
        "###instance"
      ],
      "metadata": {
        "id": "B8kvT2IZLt8Q"
      }
    },
    {
      "cell_type": "markdown",
      "source": [
        "####inconsistent aggregation"
      ],
      "metadata": {
        "id": "v7Q6-vZdL_XJ"
      }
    },
    {
      "cell_type": "code",
      "source": [
        "validity(PRODUCTS,\"ISSUMMARY\",['Y','N','n','y'])\n"
      ],
      "metadata": {
        "colab": {
          "base_uri": "https://localhost:8080/"
        },
        "id": "kkVaibbDME9e",
        "outputId": "2de3c9e0-c75b-4c5a-c1b6-5c80aad8edc8"
      },
      "execution_count": null,
      "outputs": [
        {
          "output_type": "stream",
          "name": "stdout",
          "text": [
            "100.0\n"
          ]
        }
      ]
    },
    {
      "cell_type": "code",
      "source": [
        "validity(PRODUCTINSTANCE,\"ISSUMMARY\",['Y','N','n','y'])"
      ],
      "metadata": {
        "colab": {
          "base_uri": "https://localhost:8080/"
        },
        "id": "mAFXLyaeMutV",
        "outputId": "7c35fbe7-b9f6-4169-c748-75c71ae0b423"
      },
      "execution_count": null,
      "outputs": [
        {
          "output_type": "stream",
          "name": "stdout",
          "text": [
            "99.67059624133591\n"
          ]
        }
      ]
    },
    {
      "cell_type": "markdown",
      "source": [
        "####duplicated records"
      ],
      "metadata": {
        "id": "0rYYBhmx0y1N"
      }
    },
    {
      "cell_type": "code",
      "source": [
        "def merge_dfs(df1, df2):\n",
        "  T = df1.copy()\n",
        "  D = df2.copy()\n",
        "  r = pd.concat([T,D], axis=1)\n",
        "  r = r.reindex(T.index)\n",
        "  r.name = f'merged of \"{df1.name} and {df2.name}\"'\n",
        "\n",
        "  return r"
      ],
      "metadata": {
        "id": "dnkTHBNN4W-Q"
      },
      "execution_count": null,
      "outputs": []
    },
    {
      "cell_type": "code",
      "source": [
        "has_duplicated_value(merge_dfs(TRANSFER_ITEM,TRANSFER_ITEM_D))"
      ],
      "metadata": {
        "colab": {
          "base_uri": "https://localhost:8080/",
          "height": 36
        },
        "id": "Umy1k_YC01Tj",
        "outputId": "dd5cd878-1c39-4683-f45c-699450d964aa"
      },
      "execution_count": null,
      "outputs": [
        {
          "output_type": "execute_result",
          "data": {
            "text/plain": [
              "'there is no duplicated record in merged of \"TRANSFER_ITEM and TRANSFER_ITEM_D\"'"
            ],
            "application/vnd.google.colaboratory.intrinsic+json": {
              "type": "string"
            }
          },
          "metadata": {},
          "execution_count": 78
        }
      ]
    },
    {
      "cell_type": "code",
      "source": [
        "has_duplicated_value(merge_dfs(PRODUCTS,PRODUCTINSTANCE))"
      ],
      "metadata": {
        "colab": {
          "base_uri": "https://localhost:8080/",
          "height": 36
        },
        "id": "CtDw3msn4-6i",
        "outputId": "7ced5812-1e2e-404c-b12e-af6231c3a0f0"
      },
      "execution_count": null,
      "outputs": [
        {
          "output_type": "execute_result",
          "data": {
            "text/plain": [
              "'there is no duplicated record in merged of \"PRODUCTS and PRODUCTINSTANCE\"'"
            ],
            "application/vnd.google.colaboratory.intrinsic+json": {
              "type": "string"
            }
          },
          "metadata": {},
          "execution_count": 79
        }
      ]
    },
    {
      "cell_type": "code",
      "source": [
        "has_duplicated_value(merge_dfs(PRODUCTS,INOUT))"
      ],
      "metadata": {
        "colab": {
          "base_uri": "https://localhost:8080/",
          "height": 36
        },
        "id": "IIJPOtlK5K-6",
        "outputId": "266154c0-917d-4156-a794-e7a278a600bb"
      },
      "execution_count": null,
      "outputs": [
        {
          "output_type": "execute_result",
          "data": {
            "text/plain": [
              "'there is no duplicated record in merged of \"PRODUCTS and INOUT\"'"
            ],
            "application/vnd.google.colaboratory.intrinsic+json": {
              "type": "string"
            }
          },
          "metadata": {},
          "execution_count": 80
        }
      ]
    },
    {
      "cell_type": "code",
      "source": [
        "has_duplicated_value(merge_dfs(INOUTLINE,INOUT))"
      ],
      "metadata": {
        "colab": {
          "base_uri": "https://localhost:8080/",
          "height": 36
        },
        "id": "zXaQgK-c5VMn",
        "outputId": "ba8cb5b3-8062-4fb2-8df3-119fc313c11c"
      },
      "execution_count": null,
      "outputs": [
        {
          "output_type": "execute_result",
          "data": {
            "text/plain": [
              "'there is no duplicated record in merged of \"INOUTLINE and INOUT\"'"
            ],
            "application/vnd.google.colaboratory.intrinsic+json": {
              "type": "string"
            }
          },
          "metadata": {},
          "execution_count": 81
        }
      ]
    },
    {
      "cell_type": "code",
      "source": [
        "has_duplicated_value(merge_dfs(PRODUCTS,TRANSFER_ITEM_D))"
      ],
      "metadata": {
        "colab": {
          "base_uri": "https://localhost:8080/",
          "height": 36
        },
        "id": "osaQY-ml5bMS",
        "outputId": "866220eb-6068-4088-e8b7-c3f9982b5f19"
      },
      "execution_count": null,
      "outputs": [
        {
          "output_type": "execute_result",
          "data": {
            "text/plain": [
              "'there is no duplicated record in merged of \"PRODUCTS and TRANSFER_ITEM_D\"'"
            ],
            "application/vnd.google.colaboratory.intrinsic+json": {
              "type": "string"
            }
          },
          "metadata": {},
          "execution_count": 82
        }
      ]
    }
  ]
}
{
  "nbformat": 4,
  "nbformat_minor": 0,
  "metadata": {
    "colab": {
      "provenance": []
    },
    "kernelspec": {
      "name": "python3",
      "display_name": "Python 3"
    },
    "language_info": {
      "name": "python"
    }
  },
  "cells": [
    {
      "cell_type": "code",
      "execution_count": null,
      "metadata": {
        "id": "Bc-IMnVgzkKy"
      },
      "outputs": [],
      "source": [
        "import numpy as np\n",
        "import pandas as pd\n",
        "import math\n",
        "import matplotlib.pyplot as plt"
      ]
    },
    {
      "cell_type": "code",
      "source": [
        "# Mount Google Drive\n",
        "from google.colab import drive\n",
        "drive.mount('/content/drive')"
      ],
      "metadata": {
        "colab": {
          "base_uri": "https://localhost:8080/"
        },
        "id": "1g-EWeFYz2UU",
        "outputId": "0cb12378-dfc6-4bad-deb5-492e8110bdd5"
      },
      "execution_count": null,
      "outputs": [
        {
          "output_type": "stream",
          "name": "stdout",
          "text": [
            "Mounted at /content/drive\n"
          ]
        }
      ]
    },
    {
      "cell_type": "code",
      "source": [
        "!cp drive/MyDrive/data-mining/* ./"
      ],
      "metadata": {
        "id": "1Lm7Mwapz39w"
      },
      "execution_count": null,
      "outputs": []
    },
    {
      "cell_type": "code",
      "source": [
        "PRODUCTINSTANCE_REAL = pd.read_csv('PRODUCTINSTANCE.csv', encoding='cp1258', low_memory=False)"
      ],
      "metadata": {
        "id": "s8X6sQKAz6cj"
      },
      "execution_count": null,
      "outputs": []
    },
    {
      "cell_type": "markdown",
      "source": [
        "#Utils"
      ],
      "metadata": {
        "id": "GUjkoA7h91hH"
      }
    },
    {
      "cell_type": "code",
      "source": [
        "def common_member(a, b):\n",
        "    return np.nonzero(np.isin(a, b))[0]"
      ],
      "metadata": {
        "id": "QBIlYpX16wvI"
      },
      "execution_count": null,
      "outputs": []
    },
    {
      "cell_type": "code",
      "source": [
        "def find_duplicates(mylist):\n",
        "  return list({x for x in mylist if mylist.count(x) > 1})"
      ],
      "metadata": {
        "id": "xeG-Dy-Bj-7Y"
      },
      "execution_count": null,
      "outputs": []
    },
    {
      "cell_type": "code",
      "source": [
        "def get_values(source,target, prime_values, elements, sum_of_value, max_values, min_values):\n",
        "\n",
        "  for c in target:\n",
        "    common_index = common_member(source , c)\n",
        "    count_of_values = 0\n",
        "    all_values = []\n",
        "    for i in range(len(common_index)):\n",
        "      index = common_index[i]\n",
        "      if not pd.isnull(prime_values[index]) and prime_values[index] != 'N':\n",
        "        x = prime_values[index]\n",
        "        count_of_values += float(x)\n",
        "      else:\n",
        "        x = np.nan\n",
        "      all_values.append(x)\n",
        "    data = np.array(all_values, dtype=np.float64)\n",
        "\n",
        "    elements.append(c)\n",
        "    sum_of_value.append(count_of_values)\n",
        "    max_values.append(np.max(data))\n",
        "    min_values.append(np.min(data))"
      ],
      "metadata": {
        "id": "2TrXg6iPwkq3"
      },
      "execution_count": null,
      "outputs": []
    },
    {
      "cell_type": "code",
      "source": [
        "def get_year(source,target, years, elements,specific_year, prime_values, sum_of_value):\n",
        "\n",
        "  for c in target:\n",
        "    common_index = common_member(source , c)\n",
        "    all_years = []\n",
        "    count_of_values = 0\n",
        "    for i in range(len(common_index)):\n",
        "      index = common_index[i]\n",
        "      if not pd.isnull(prime_values[index]) and prime_values[index] != 'N':\n",
        "        count_of_values += float(prime_values[index])\n",
        "      all_years.append(years[index])\n",
        "    elements.append(c)\n",
        "    # most frequent year\n",
        "    specific_year.append(np.bincount(all_years).argmax())\n",
        "    sum_of_value.append(count_of_values)"
      ],
      "metadata": {
        "id": "LieU_3BRQMhs"
      },
      "execution_count": null,
      "outputs": []
    },
    {
      "cell_type": "code",
      "source": [
        "def find_extermum(elements, sum_of_values):\n",
        "  maximum_value = np.max(sum_of_values)\n",
        "  minimum_value = np.min(sum_of_values)\n",
        "\n",
        "  id_of_max = 0\n",
        "  id_of_min = 0\n",
        "\n",
        "  for i in range(len(sum_of_values)):\n",
        "    if  sum_of_values[i] == maximum_value:\n",
        "      id_of_max = elements[i]\n",
        "    elif sum_of_values[i] == minimum_value:\n",
        "      id_of_min = elements[i]\n",
        "\n",
        "  return  id_of_max , maximum_value, id_of_min, minimum_value"
      ],
      "metadata": {
        "id": "dYZX1tJlweIi"
      },
      "execution_count": null,
      "outputs": []
    },
    {
      "cell_type": "markdown",
      "source": [
        "#Question 1"
      ],
      "metadata": {
        "id": "Y1otgyGY0I32"
      }
    },
    {
      "cell_type": "markdown",
      "source": [
        "##PRODUCTINSTANCE table"
      ],
      "metadata": {
        "id": "rzmk_bXkBxnY"
      }
    },
    {
      "cell_type": "markdown",
      "source": [
        "###BASEINFO_RECORDID"
      ],
      "metadata": {
        "id": "3PntbDaxyjbq"
      }
    },
    {
      "cell_type": "code",
      "source": [
        "PRODUCTINSTANCE = PRODUCTINSTANCE_REAL.copy(True)\n",
        "\n",
        "# Remove null BASEINFO_RECORDID rows from table\n",
        "PRODUCTINSTANCE.dropna(subset=['BASEINFO_RECORDID'], inplace=True)\n",
        "PRODUCTINSTANCE = PRODUCTINSTANCE.reset_index(drop=True)\n",
        "\n",
        "# Filter irregular type of records by regular-expressions\n",
        "PRODUCTINSTANCE = PRODUCTINSTANCE.astype({'BASEINFO_RECORDID': str})\n",
        "PRODUCTINSTANCE = PRODUCTINSTANCE[PRODUCTINSTANCE['BASEINFO_RECORDID'].str.contains('^[0-9]+\\.?\\d*$')]\n",
        "PRODUCTINSTANCE = PRODUCTINSTANCE.astype({'BASEINFO_RECORDID': float})"
      ],
      "metadata": {
        "id": "TdDXR0UhkVrH"
      },
      "execution_count": null,
      "outputs": []
    },
    {
      "cell_type": "code",
      "source": [
        "# Extract related columns from table\n",
        "BASEINFO_RECORDID = PRODUCTINSTANCE.loc[:,'BASEINFO_RECORDID']\n",
        "PRIMALVALUE = PRODUCTINSTANCE.loc[:,'PRIMALVALUE']\n",
        "\n",
        "BASEINFO_RECORDID_NEW = list(BASEINFO_RECORDID)\n",
        "values = list(PRIMALVALUE)"
      ],
      "metadata": {
        "id": "362erW4ykdyB"
      },
      "execution_count": null,
      "outputs": []
    },
    {
      "cell_type": "code",
      "source": [
        "duplicates = find_duplicates(BASEINFO_RECORDID_NEW)\n",
        "non_duplicates = []\n",
        "for i in range(len(BASEINFO_RECORDID_NEW)):\n",
        "  if BASEINFO_RECORDID_NEW[i] not in duplicates:\n",
        "    non_duplicates.append(BASEINFO_RECORDID_NEW[i])"
      ],
      "metadata": {
        "id": "bIzPEGeXrDhQ"
      },
      "execution_count": null,
      "outputs": []
    },
    {
      "cell_type": "code",
      "source": [
        "BASEINFO_RECORDID_all=[]\n",
        "sum_of_values=[]\n",
        "max_values = []\n",
        "min_values = []"
      ],
      "metadata": {
        "id": "VD790zPnu8mj"
      },
      "execution_count": null,
      "outputs": []
    },
    {
      "cell_type": "code",
      "source": [
        "get_values(BASEINFO_RECORDID_NEW, duplicates, values, BASEINFO_RECORDID_all, sum_of_values,max_values, min_values)\n",
        "get_values(BASEINFO_RECORDID_NEW, non_duplicates, values, BASEINFO_RECORDID_all, sum_of_values,max_values, min_values)"
      ],
      "metadata": {
        "id": "15sopFKz8GiJ"
      },
      "execution_count": null,
      "outputs": []
    },
    {
      "cell_type": "code",
      "source": [
        "df = pd.DataFrame({\n",
        "    'BASEINFO_RECORDID': BASEINFO_RECORDID_all,\n",
        "    'maximum value': np.nanmax(max_values),\n",
        "    'minimum value': np.nanmin(min_values),\n",
        "    'sum of values': sum_of_values\n",
        "})\n",
        "\n",
        "df.set_index('BASEINFO_RECORDID')"
      ],
      "metadata": {
        "colab": {
          "base_uri": "https://localhost:8080/",
          "height": 455
        },
        "id": "bq3gUinl34wA",
        "outputId": "aa0e43a1-14f4-48da-c8f3-4f8e962116c8"
      },
      "execution_count": null,
      "outputs": [
        {
          "output_type": "execute_result",
          "data": {
            "text/plain": [
              "                   maximum value  minimum value  sum of values\n",
              "BASEINFO_RECORDID                                             \n",
              "1.0                 1.954043e+10            0.0            0.0\n",
              "8200.0              1.954043e+10            0.0            0.0\n",
              "8203.0              1.954043e+10            0.0            0.0\n",
              "8204.0              1.954043e+10            0.0            0.0\n",
              "8205.0              1.954043e+10            0.0            0.0\n",
              "...                          ...            ...            ...\n",
              "469638478.0         1.954043e+10            0.0    233260000.0\n",
              "469638518.0         1.954043e+10            0.0     17549000.0\n",
              "469638640.0         1.954043e+10            0.0      7400000.0\n",
              "469638448.0         1.954043e+10            0.0    245000000.0\n",
              "469638815.0         1.954043e+10            0.0     39000000.0\n",
              "\n",
              "[872 rows x 3 columns]"
            ],
            "text/html": [
              "\n",
              "  <div id=\"df-938b6a3c-d166-474c-8f46-4ffb74b15fc4\">\n",
              "    <div class=\"colab-df-container\">\n",
              "      <div>\n",
              "<style scoped>\n",
              "    .dataframe tbody tr th:only-of-type {\n",
              "        vertical-align: middle;\n",
              "    }\n",
              "\n",
              "    .dataframe tbody tr th {\n",
              "        vertical-align: top;\n",
              "    }\n",
              "\n",
              "    .dataframe thead th {\n",
              "        text-align: right;\n",
              "    }\n",
              "</style>\n",
              "<table border=\"1\" class=\"dataframe\">\n",
              "  <thead>\n",
              "    <tr style=\"text-align: right;\">\n",
              "      <th></th>\n",
              "      <th>maximum value</th>\n",
              "      <th>minimum value</th>\n",
              "      <th>sum of values</th>\n",
              "    </tr>\n",
              "    <tr>\n",
              "      <th>BASEINFO_RECORDID</th>\n",
              "      <th></th>\n",
              "      <th></th>\n",
              "      <th></th>\n",
              "    </tr>\n",
              "  </thead>\n",
              "  <tbody>\n",
              "    <tr>\n",
              "      <th>1.0</th>\n",
              "      <td>1.954043e+10</td>\n",
              "      <td>0.0</td>\n",
              "      <td>0.0</td>\n",
              "    </tr>\n",
              "    <tr>\n",
              "      <th>8200.0</th>\n",
              "      <td>1.954043e+10</td>\n",
              "      <td>0.0</td>\n",
              "      <td>0.0</td>\n",
              "    </tr>\n",
              "    <tr>\n",
              "      <th>8203.0</th>\n",
              "      <td>1.954043e+10</td>\n",
              "      <td>0.0</td>\n",
              "      <td>0.0</td>\n",
              "    </tr>\n",
              "    <tr>\n",
              "      <th>8204.0</th>\n",
              "      <td>1.954043e+10</td>\n",
              "      <td>0.0</td>\n",
              "      <td>0.0</td>\n",
              "    </tr>\n",
              "    <tr>\n",
              "      <th>8205.0</th>\n",
              "      <td>1.954043e+10</td>\n",
              "      <td>0.0</td>\n",
              "      <td>0.0</td>\n",
              "    </tr>\n",
              "    <tr>\n",
              "      <th>...</th>\n",
              "      <td>...</td>\n",
              "      <td>...</td>\n",
              "      <td>...</td>\n",
              "    </tr>\n",
              "    <tr>\n",
              "      <th>469638478.0</th>\n",
              "      <td>1.954043e+10</td>\n",
              "      <td>0.0</td>\n",
              "      <td>233260000.0</td>\n",
              "    </tr>\n",
              "    <tr>\n",
              "      <th>469638518.0</th>\n",
              "      <td>1.954043e+10</td>\n",
              "      <td>0.0</td>\n",
              "      <td>17549000.0</td>\n",
              "    </tr>\n",
              "    <tr>\n",
              "      <th>469638640.0</th>\n",
              "      <td>1.954043e+10</td>\n",
              "      <td>0.0</td>\n",
              "      <td>7400000.0</td>\n",
              "    </tr>\n",
              "    <tr>\n",
              "      <th>469638448.0</th>\n",
              "      <td>1.954043e+10</td>\n",
              "      <td>0.0</td>\n",
              "      <td>245000000.0</td>\n",
              "    </tr>\n",
              "    <tr>\n",
              "      <th>469638815.0</th>\n",
              "      <td>1.954043e+10</td>\n",
              "      <td>0.0</td>\n",
              "      <td>39000000.0</td>\n",
              "    </tr>\n",
              "  </tbody>\n",
              "</table>\n",
              "<p>872 rows × 3 columns</p>\n",
              "</div>\n",
              "      <button class=\"colab-df-convert\" onclick=\"convertToInteractive('df-938b6a3c-d166-474c-8f46-4ffb74b15fc4')\"\n",
              "              title=\"Convert this dataframe to an interactive table.\"\n",
              "              style=\"display:none;\">\n",
              "        \n",
              "  <svg xmlns=\"http://www.w3.org/2000/svg\" height=\"24px\"viewBox=\"0 0 24 24\"\n",
              "       width=\"24px\">\n",
              "    <path d=\"M0 0h24v24H0V0z\" fill=\"none\"/>\n",
              "    <path d=\"M18.56 5.44l.94 2.06.94-2.06 2.06-.94-2.06-.94-.94-2.06-.94 2.06-2.06.94zm-11 1L8.5 8.5l.94-2.06 2.06-.94-2.06-.94L8.5 2.5l-.94 2.06-2.06.94zm10 10l.94 2.06.94-2.06 2.06-.94-2.06-.94-.94-2.06-.94 2.06-2.06.94z\"/><path d=\"M17.41 7.96l-1.37-1.37c-.4-.4-.92-.59-1.43-.59-.52 0-1.04.2-1.43.59L10.3 9.45l-7.72 7.72c-.78.78-.78 2.05 0 2.83L4 21.41c.39.39.9.59 1.41.59.51 0 1.02-.2 1.41-.59l7.78-7.78 2.81-2.81c.8-.78.8-2.07 0-2.86zM5.41 20L4 18.59l7.72-7.72 1.47 1.35L5.41 20z\"/>\n",
              "  </svg>\n",
              "      </button>\n",
              "      \n",
              "  <style>\n",
              "    .colab-df-container {\n",
              "      display:flex;\n",
              "      flex-wrap:wrap;\n",
              "      gap: 12px;\n",
              "    }\n",
              "\n",
              "    .colab-df-convert {\n",
              "      background-color: #E8F0FE;\n",
              "      border: none;\n",
              "      border-radius: 50%;\n",
              "      cursor: pointer;\n",
              "      display: none;\n",
              "      fill: #1967D2;\n",
              "      height: 32px;\n",
              "      padding: 0 0 0 0;\n",
              "      width: 32px;\n",
              "    }\n",
              "\n",
              "    .colab-df-convert:hover {\n",
              "      background-color: #E2EBFA;\n",
              "      box-shadow: 0px 1px 2px rgba(60, 64, 67, 0.3), 0px 1px 3px 1px rgba(60, 64, 67, 0.15);\n",
              "      fill: #174EA6;\n",
              "    }\n",
              "\n",
              "    [theme=dark] .colab-df-convert {\n",
              "      background-color: #3B4455;\n",
              "      fill: #D2E3FC;\n",
              "    }\n",
              "\n",
              "    [theme=dark] .colab-df-convert:hover {\n",
              "      background-color: #434B5C;\n",
              "      box-shadow: 0px 1px 3px 1px rgba(0, 0, 0, 0.15);\n",
              "      filter: drop-shadow(0px 1px 2px rgba(0, 0, 0, 0.3));\n",
              "      fill: #FFFFFF;\n",
              "    }\n",
              "  </style>\n",
              "\n",
              "      <script>\n",
              "        const buttonEl =\n",
              "          document.querySelector('#df-938b6a3c-d166-474c-8f46-4ffb74b15fc4 button.colab-df-convert');\n",
              "        buttonEl.style.display =\n",
              "          google.colab.kernel.accessAllowed ? 'block' : 'none';\n",
              "\n",
              "        async function convertToInteractive(key) {\n",
              "          const element = document.querySelector('#df-938b6a3c-d166-474c-8f46-4ffb74b15fc4');\n",
              "          const dataTable =\n",
              "            await google.colab.kernel.invokeFunction('convertToInteractive',\n",
              "                                                     [key], {});\n",
              "          if (!dataTable) return;\n",
              "\n",
              "          const docLinkHtml = 'Like what you see? Visit the ' +\n",
              "            '<a target=\"_blank\" href=https://colab.research.google.com/notebooks/data_table.ipynb>data table notebook</a>'\n",
              "            + ' to learn more about interactive tables.';\n",
              "          element.innerHTML = '';\n",
              "          dataTable['output_type'] = 'display_data';\n",
              "          await google.colab.output.renderOutput(dataTable, element);\n",
              "          const docLink = document.createElement('div');\n",
              "          docLink.innerHTML = docLinkHtml;\n",
              "          element.appendChild(docLink);\n",
              "        }\n",
              "      </script>\n",
              "    </div>\n",
              "  </div>\n",
              "  "
            ]
          },
          "metadata": {},
          "execution_count": 584
        }
      ]
    },
    {
      "cell_type": "code",
      "source": [
        "id_of_max , maximum_value, id_of_min, minimum_value  = find_extermum(BASEINFO_RECORDID_all, sum_of_values)\n",
        "\n",
        "print(f'The maximum sum_of_values is = {maximum_value} from BASEINFO_RECORDID = {id_of_max}')\n",
        "print(f'The minimum sum_of_values is = {minimum_value} from BASEINFO_RECORDID = {id_of_min}')"
      ],
      "metadata": {
        "colab": {
          "base_uri": "https://localhost:8080/"
        },
        "id": "1RsTOE4QJuzI",
        "outputId": "67af5cf1-6318-4019-9403-a50a85eb1699"
      },
      "execution_count": null,
      "outputs": [
        {
          "output_type": "stream",
          "name": "stdout",
          "text": [
            "The maximum sum_of_values is = 338158307032.0 from BASEINFO_RECORDID = 469638651.0\n",
            "The minimum sum_of_values is = 0.0 from BASEINFO_RECORDID = 7722.0\n"
          ]
        }
      ]
    },
    {
      "cell_type": "markdown",
      "source": [
        "###COSTCENTER_ID"
      ],
      "metadata": {
        "id": "fUcw3RJe2Z8V"
      }
    },
    {
      "cell_type": "code",
      "source": [
        "PRODUCTINSTANCE = PRODUCTINSTANCE_REAL.copy(True)\n",
        "\n",
        "# Remove all null COSTCENTER_ID rows from table\n",
        "PRODUCTINSTANCE.dropna(subset=['C_COSTCENTER_ID'], inplace=True)\n",
        "\n",
        "# Filter irregular type of records by regular-expressions\n",
        "PRODUCTINSTANCE = PRODUCTINSTANCE.astype({'C_COSTCENTER_ID': str})\n",
        "PRODUCTINSTANCE = PRODUCTINSTANCE[PRODUCTINSTANCE['C_COSTCENTER_ID'].str.contains('^[0-9]+\\.?\\d*$')]\n",
        "PRODUCTINSTANCE = PRODUCTINSTANCE.astype({'C_COSTCENTER_ID': float})\n",
        "\n",
        "PRODUCTINSTANCE = PRODUCTINSTANCE.reset_index(drop=True)"
      ],
      "metadata": {
        "id": "45BCT9rpDaQU"
      },
      "execution_count": null,
      "outputs": []
    },
    {
      "cell_type": "code",
      "source": [
        "# Extract related columns from table\n",
        "C_COSTCENTER_ID = PRODUCTINSTANCE.loc[:,'C_COSTCENTER_ID']\n",
        "PRIMALVALUE = PRODUCTINSTANCE.loc[:,'PRIMALVALUE']\n",
        "\n",
        "C_COSTCENTER_ID_NEW = list(C_COSTCENTER_ID)\n",
        "values = list(PRIMALVALUE)"
      ],
      "metadata": {
        "id": "hoM4agxfH0-n"
      },
      "execution_count": null,
      "outputs": []
    },
    {
      "cell_type": "code",
      "source": [
        "duplicates_cost_center = find_duplicates(C_COSTCENTER_ID_NEW)\n",
        "non_duplicates_cost_center = []\n",
        "for i in range(len(C_COSTCENTER_ID_NEW)):\n",
        "  if C_COSTCENTER_ID_NEW[i] not in duplicates_cost_center:\n",
        "    non_duplicates_cost_center.append(C_COSTCENTER_ID_NEW[i])"
      ],
      "metadata": {
        "id": "1Lw4KhR03bC4"
      },
      "execution_count": null,
      "outputs": []
    },
    {
      "cell_type": "code",
      "source": [
        "# Calculate sum_of_values for each cost_center with the max and min amount for them\n",
        "C_COSTCENTER_ID_all=[]\n",
        "sum_of_values_costcenter=[]\n",
        "max_values_C = []\n",
        "min_values_C = []\n",
        "\n",
        "get_values(C_COSTCENTER_ID_NEW, duplicates_cost_center, values, C_COSTCENTER_ID_all, sum_of_values_costcenter, max_values_C, min_values_C)\n",
        "get_values(C_COSTCENTER_ID_NEW, non_duplicates_cost_center, values, C_COSTCENTER_ID_all, sum_of_values_costcenter, max_values_C, min_values_C)"
      ],
      "metadata": {
        "id": "KY44wtHWaUC-"
      },
      "execution_count": null,
      "outputs": []
    },
    {
      "cell_type": "code",
      "source": [
        "df = pd.DataFrame({\n",
        "    'COSTCENTER_ID': C_COSTCENTER_ID_all,\n",
        "    'maximum value': np.nanmax(max_values_C),\n",
        "    'minimum value': np.nanmin(min_values_C),\n",
        "    'sum of values': sum_of_values_costcenter\n",
        "})\n",
        "\n",
        "df.set_index('COSTCENTER_ID')"
      ],
      "metadata": {
        "colab": {
          "base_uri": "https://localhost:8080/",
          "height": 455
        },
        "id": "91jhRwMj-Gbo",
        "outputId": "8ff80e1b-0397-497a-9e32-1fcc608c0327"
      },
      "execution_count": null,
      "outputs": [
        {
          "output_type": "execute_result",
          "data": {
            "text/plain": [
              "               maximum value  minimum value  sum of values\n",
              "COSTCENTER_ID                                             \n",
              "0.0             1.917681e+10            0.0   0.000000e+00\n",
              "210032641.0     1.917681e+10            0.0   3.477972e+07\n",
              "265166850.0     1.917681e+10            0.0   5.874420e+09\n",
              "3.0             1.917681e+10            0.0   0.000000e+00\n",
              "4.0             1.917681e+10            0.0   0.000000e+00\n",
              "...                      ...            ...            ...\n",
              "36.0            1.917681e+10            0.0   0.000000e+00\n",
              "25.0            1.917681e+10            0.0   0.000000e+00\n",
              "19.0            1.917681e+10            0.0   0.000000e+00\n",
              "23.0            1.917681e+10            0.0   0.000000e+00\n",
              "20.0            1.917681e+10            0.0   0.000000e+00\n",
              "\n",
              "[280 rows x 3 columns]"
            ],
            "text/html": [
              "\n",
              "  <div id=\"df-ac5993f9-4315-400e-b12e-b039276e7359\">\n",
              "    <div class=\"colab-df-container\">\n",
              "      <div>\n",
              "<style scoped>\n",
              "    .dataframe tbody tr th:only-of-type {\n",
              "        vertical-align: middle;\n",
              "    }\n",
              "\n",
              "    .dataframe tbody tr th {\n",
              "        vertical-align: top;\n",
              "    }\n",
              "\n",
              "    .dataframe thead th {\n",
              "        text-align: right;\n",
              "    }\n",
              "</style>\n",
              "<table border=\"1\" class=\"dataframe\">\n",
              "  <thead>\n",
              "    <tr style=\"text-align: right;\">\n",
              "      <th></th>\n",
              "      <th>maximum value</th>\n",
              "      <th>minimum value</th>\n",
              "      <th>sum of values</th>\n",
              "    </tr>\n",
              "    <tr>\n",
              "      <th>COSTCENTER_ID</th>\n",
              "      <th></th>\n",
              "      <th></th>\n",
              "      <th></th>\n",
              "    </tr>\n",
              "  </thead>\n",
              "  <tbody>\n",
              "    <tr>\n",
              "      <th>0.0</th>\n",
              "      <td>1.917681e+10</td>\n",
              "      <td>0.0</td>\n",
              "      <td>0.000000e+00</td>\n",
              "    </tr>\n",
              "    <tr>\n",
              "      <th>210032641.0</th>\n",
              "      <td>1.917681e+10</td>\n",
              "      <td>0.0</td>\n",
              "      <td>3.477972e+07</td>\n",
              "    </tr>\n",
              "    <tr>\n",
              "      <th>265166850.0</th>\n",
              "      <td>1.917681e+10</td>\n",
              "      <td>0.0</td>\n",
              "      <td>5.874420e+09</td>\n",
              "    </tr>\n",
              "    <tr>\n",
              "      <th>3.0</th>\n",
              "      <td>1.917681e+10</td>\n",
              "      <td>0.0</td>\n",
              "      <td>0.000000e+00</td>\n",
              "    </tr>\n",
              "    <tr>\n",
              "      <th>4.0</th>\n",
              "      <td>1.917681e+10</td>\n",
              "      <td>0.0</td>\n",
              "      <td>0.000000e+00</td>\n",
              "    </tr>\n",
              "    <tr>\n",
              "      <th>...</th>\n",
              "      <td>...</td>\n",
              "      <td>...</td>\n",
              "      <td>...</td>\n",
              "    </tr>\n",
              "    <tr>\n",
              "      <th>36.0</th>\n",
              "      <td>1.917681e+10</td>\n",
              "      <td>0.0</td>\n",
              "      <td>0.000000e+00</td>\n",
              "    </tr>\n",
              "    <tr>\n",
              "      <th>25.0</th>\n",
              "      <td>1.917681e+10</td>\n",
              "      <td>0.0</td>\n",
              "      <td>0.000000e+00</td>\n",
              "    </tr>\n",
              "    <tr>\n",
              "      <th>19.0</th>\n",
              "      <td>1.917681e+10</td>\n",
              "      <td>0.0</td>\n",
              "      <td>0.000000e+00</td>\n",
              "    </tr>\n",
              "    <tr>\n",
              "      <th>23.0</th>\n",
              "      <td>1.917681e+10</td>\n",
              "      <td>0.0</td>\n",
              "      <td>0.000000e+00</td>\n",
              "    </tr>\n",
              "    <tr>\n",
              "      <th>20.0</th>\n",
              "      <td>1.917681e+10</td>\n",
              "      <td>0.0</td>\n",
              "      <td>0.000000e+00</td>\n",
              "    </tr>\n",
              "  </tbody>\n",
              "</table>\n",
              "<p>280 rows × 3 columns</p>\n",
              "</div>\n",
              "      <button class=\"colab-df-convert\" onclick=\"convertToInteractive('df-ac5993f9-4315-400e-b12e-b039276e7359')\"\n",
              "              title=\"Convert this dataframe to an interactive table.\"\n",
              "              style=\"display:none;\">\n",
              "        \n",
              "  <svg xmlns=\"http://www.w3.org/2000/svg\" height=\"24px\"viewBox=\"0 0 24 24\"\n",
              "       width=\"24px\">\n",
              "    <path d=\"M0 0h24v24H0V0z\" fill=\"none\"/>\n",
              "    <path d=\"M18.56 5.44l.94 2.06.94-2.06 2.06-.94-2.06-.94-.94-2.06-.94 2.06-2.06.94zm-11 1L8.5 8.5l.94-2.06 2.06-.94-2.06-.94L8.5 2.5l-.94 2.06-2.06.94zm10 10l.94 2.06.94-2.06 2.06-.94-2.06-.94-.94-2.06-.94 2.06-2.06.94z\"/><path d=\"M17.41 7.96l-1.37-1.37c-.4-.4-.92-.59-1.43-.59-.52 0-1.04.2-1.43.59L10.3 9.45l-7.72 7.72c-.78.78-.78 2.05 0 2.83L4 21.41c.39.39.9.59 1.41.59.51 0 1.02-.2 1.41-.59l7.78-7.78 2.81-2.81c.8-.78.8-2.07 0-2.86zM5.41 20L4 18.59l7.72-7.72 1.47 1.35L5.41 20z\"/>\n",
              "  </svg>\n",
              "      </button>\n",
              "      \n",
              "  <style>\n",
              "    .colab-df-container {\n",
              "      display:flex;\n",
              "      flex-wrap:wrap;\n",
              "      gap: 12px;\n",
              "    }\n",
              "\n",
              "    .colab-df-convert {\n",
              "      background-color: #E8F0FE;\n",
              "      border: none;\n",
              "      border-radius: 50%;\n",
              "      cursor: pointer;\n",
              "      display: none;\n",
              "      fill: #1967D2;\n",
              "      height: 32px;\n",
              "      padding: 0 0 0 0;\n",
              "      width: 32px;\n",
              "    }\n",
              "\n",
              "    .colab-df-convert:hover {\n",
              "      background-color: #E2EBFA;\n",
              "      box-shadow: 0px 1px 2px rgba(60, 64, 67, 0.3), 0px 1px 3px 1px rgba(60, 64, 67, 0.15);\n",
              "      fill: #174EA6;\n",
              "    }\n",
              "\n",
              "    [theme=dark] .colab-df-convert {\n",
              "      background-color: #3B4455;\n",
              "      fill: #D2E3FC;\n",
              "    }\n",
              "\n",
              "    [theme=dark] .colab-df-convert:hover {\n",
              "      background-color: #434B5C;\n",
              "      box-shadow: 0px 1px 3px 1px rgba(0, 0, 0, 0.15);\n",
              "      filter: drop-shadow(0px 1px 2px rgba(0, 0, 0, 0.3));\n",
              "      fill: #FFFFFF;\n",
              "    }\n",
              "  </style>\n",
              "\n",
              "      <script>\n",
              "        const buttonEl =\n",
              "          document.querySelector('#df-ac5993f9-4315-400e-b12e-b039276e7359 button.colab-df-convert');\n",
              "        buttonEl.style.display =\n",
              "          google.colab.kernel.accessAllowed ? 'block' : 'none';\n",
              "\n",
              "        async function convertToInteractive(key) {\n",
              "          const element = document.querySelector('#df-ac5993f9-4315-400e-b12e-b039276e7359');\n",
              "          const dataTable =\n",
              "            await google.colab.kernel.invokeFunction('convertToInteractive',\n",
              "                                                     [key], {});\n",
              "          if (!dataTable) return;\n",
              "\n",
              "          const docLinkHtml = 'Like what you see? Visit the ' +\n",
              "            '<a target=\"_blank\" href=https://colab.research.google.com/notebooks/data_table.ipynb>data table notebook</a>'\n",
              "            + ' to learn more about interactive tables.';\n",
              "          element.innerHTML = '';\n",
              "          dataTable['output_type'] = 'display_data';\n",
              "          await google.colab.output.renderOutput(dataTable, element);\n",
              "          const docLink = document.createElement('div');\n",
              "          docLink.innerHTML = docLinkHtml;\n",
              "          element.appendChild(docLink);\n",
              "        }\n",
              "      </script>\n",
              "    </div>\n",
              "  </div>\n",
              "  "
            ]
          },
          "metadata": {},
          "execution_count": 25
        }
      ]
    },
    {
      "cell_type": "code",
      "source": [
        "id_of_max , maximum_value, id_of_min, minimum_value  = find_extermum(C_COSTCENTER_ID_all, sum_of_values_costcenter)\n",
        "\n",
        "print(f'The maximum sum_of_values is = {maximum_value} from COSTCENTER_ID = {id_of_max}')\n",
        "print(f'The minimum sum_of_values is = {minimum_value} from COSTCENTER_ID = {id_of_min}')"
      ],
      "metadata": {
        "colab": {
          "base_uri": "https://localhost:8080/"
        },
        "id": "xjkkQ6u64EuL",
        "outputId": "7f1a36ee-545d-4dba-8c42-873a48b34713"
      },
      "execution_count": null,
      "outputs": [
        {
          "output_type": "stream",
          "name": "stdout",
          "text": [
            "The maximum sum_of_values is = 109047593567.0 from COSTCENTER_ID = 210032638.0\n",
            "The minimum sum_of_values is = 0.0 from COSTCENTER_ID = 20.0\n"
          ]
        }
      ]
    },
    {
      "cell_type": "markdown",
      "source": [
        "###During time"
      ],
      "metadata": {
        "id": "rfGivuE3M6KC"
      }
    },
    {
      "cell_type": "code",
      "source": [
        "PRODUCTINSTANCE_Y = PRODUCTINSTANCE_REAL.copy(True)\n",
        "\n",
        "# Filter irregular type of records by regular-expressions\n",
        "PRODUCTINSTANCE_Y = PRODUCTINSTANCE_Y.astype({'CREATED': str})\n",
        "PRODUCTINSTANCE_Y = PRODUCTINSTANCE_Y[PRODUCTINSTANCE_Y['CREATED'].str.contains('(\\d{1,2})\\/(\\d{1,2})\\/(\\d{4}) (\\d{1,2}):(\\d{1,2})')]\n",
        "PRODUCTINSTANCE_Y = PRODUCTINSTANCE_Y.reset_index(drop=True)"
      ],
      "metadata": {
        "colab": {
          "base_uri": "https://localhost:8080/"
        },
        "id": "swWjdjEBNJjJ",
        "outputId": "183ea3e8-5676-4db0-a897-f1c57bb5da77"
      },
      "execution_count": null,
      "outputs": [
        {
          "output_type": "stream",
          "name": "stderr",
          "text": [
            "<ipython-input-27-e0304a22a61b>:5: UserWarning: This pattern has match groups. To actually get the groups, use str.extract.\n",
            "  PRODUCTINSTANCE_Y = PRODUCTINSTANCE_Y[PRODUCTINSTANCE_Y['CREATED'].str.contains('(\\d{1,2})\\/(\\d{1,2})\\/(\\d{4}) (\\d{1,2}):(\\d{1,2})')]\n"
          ]
        }
      ]
    },
    {
      "cell_type": "markdown",
      "source": [
        "####BASEINFO_RECORDID"
      ],
      "metadata": {
        "id": "K7agCJrYNDli"
      }
    },
    {
      "cell_type": "code",
      "source": [
        "PRODUCTINSTANCE_TABLE = PRODUCTINSTANCE_Y.copy(True)\n",
        "PRODUCTINSTANCE_TABLE.dropna(subset=['BASEINFO_RECORDID'], inplace=True)\n",
        "\n",
        "PRODUCTINSTANCE_TABLE = PRODUCTINSTANCE_TABLE.astype({'BASEINFO_RECORDID': str})\n",
        "PRODUCTINSTANCE_TABLE = PRODUCTINSTANCE_TABLE[PRODUCTINSTANCE_TABLE['BASEINFO_RECORDID'].str.contains('^[0-9]+\\.?\\d*$')]\n",
        "PRODUCTINSTANCE_TABLE = PRODUCTINSTANCE_TABLE.astype({'BASEINFO_RECORDID': float})\n",
        "PRODUCTINSTANCE_TABLE = PRODUCTINSTANCE_TABLE.reset_index(drop=True)\n",
        "\n",
        "CREATED = PRODUCTINSTANCE_TABLE.loc[:,'CREATED']\n",
        "BASEINFO_RECORDID_NEW_Y = list(PRODUCTINSTANCE_TABLE.loc[:,'BASEINFO_RECORDID'])\n",
        "values_Y = list(PRODUCTINSTANCE_TABLE.loc[:,'PRIMALVALUE'])"
      ],
      "metadata": {
        "id": "K-vZ_cbuU8aB"
      },
      "execution_count": null,
      "outputs": []
    },
    {
      "cell_type": "code",
      "source": [
        "years = []\n",
        "for i in range(len(CREATED)):\n",
        "  y = pd.to_datetime(CREATED[i], format='%m/%d/%Y %H:%M').year\n",
        "  years.append(y)"
      ],
      "metadata": {
        "id": "ix86kp0NNPv3"
      },
      "execution_count": null,
      "outputs": []
    },
    {
      "cell_type": "code",
      "source": [
        "specific_years = []\n",
        "BASEINFO_RECORDIDs = []\n",
        "sum = []\n",
        "\n",
        "get_year(BASEINFO_RECORDID_NEW_Y, duplicates, years, BASEINFO_RECORDIDs, specific_years, values_Y, sum)\n",
        "get_year(BASEINFO_RECORDID_NEW_Y, non_duplicates, years, BASEINFO_RECORDIDs, specific_years, values_Y, sum)"
      ],
      "metadata": {
        "id": "eYTtjsrLggWd"
      },
      "execution_count": null,
      "outputs": []
    },
    {
      "cell_type": "code",
      "source": [
        "df = pd.DataFrame({\n",
        "    'BASEINFO_RECORDID': BASEINFO_RECORDIDs,\n",
        "    'sum of values': sum,\n",
        "    'frequent financial_year': specific_years\n",
        "})\n",
        "\n",
        "df.set_index('BASEINFO_RECORDID')"
      ],
      "metadata": {
        "colab": {
          "base_uri": "https://localhost:8080/",
          "height": 455
        },
        "id": "ZstECvzokHlx",
        "outputId": "8709c908-41c4-4502-c26b-a0d2939632b8"
      },
      "execution_count": null,
      "outputs": [
        {
          "output_type": "execute_result",
          "data": {
            "text/plain": [
              "                   sum of values  frequent financial_year\n",
              "BASEINFO_RECORDID                                        \n",
              "1.0                          0.0                     2019\n",
              "8200.0                       0.0                     2014\n",
              "8203.0                       0.0                     2019\n",
              "8204.0                       0.0                     2014\n",
              "8205.0                       0.0                     2014\n",
              "...                          ...                      ...\n",
              "469638478.0          233260000.0                     2021\n",
              "469638518.0           17549000.0                     2021\n",
              "469638640.0            7400000.0                     2022\n",
              "469638448.0          245000000.0                     2022\n",
              "469638815.0           39000000.0                     2022\n",
              "\n",
              "[476 rows x 2 columns]"
            ],
            "text/html": [
              "\n",
              "  <div id=\"df-5cffbba9-7474-4893-b45a-052fbae5e97a\">\n",
              "    <div class=\"colab-df-container\">\n",
              "      <div>\n",
              "<style scoped>\n",
              "    .dataframe tbody tr th:only-of-type {\n",
              "        vertical-align: middle;\n",
              "    }\n",
              "\n",
              "    .dataframe tbody tr th {\n",
              "        vertical-align: top;\n",
              "    }\n",
              "\n",
              "    .dataframe thead th {\n",
              "        text-align: right;\n",
              "    }\n",
              "</style>\n",
              "<table border=\"1\" class=\"dataframe\">\n",
              "  <thead>\n",
              "    <tr style=\"text-align: right;\">\n",
              "      <th></th>\n",
              "      <th>sum of values</th>\n",
              "      <th>frequent financial_year</th>\n",
              "    </tr>\n",
              "    <tr>\n",
              "      <th>BASEINFO_RECORDID</th>\n",
              "      <th></th>\n",
              "      <th></th>\n",
              "    </tr>\n",
              "  </thead>\n",
              "  <tbody>\n",
              "    <tr>\n",
              "      <th>1.0</th>\n",
              "      <td>0.0</td>\n",
              "      <td>2019</td>\n",
              "    </tr>\n",
              "    <tr>\n",
              "      <th>8200.0</th>\n",
              "      <td>0.0</td>\n",
              "      <td>2014</td>\n",
              "    </tr>\n",
              "    <tr>\n",
              "      <th>8203.0</th>\n",
              "      <td>0.0</td>\n",
              "      <td>2019</td>\n",
              "    </tr>\n",
              "    <tr>\n",
              "      <th>8204.0</th>\n",
              "      <td>0.0</td>\n",
              "      <td>2014</td>\n",
              "    </tr>\n",
              "    <tr>\n",
              "      <th>8205.0</th>\n",
              "      <td>0.0</td>\n",
              "      <td>2014</td>\n",
              "    </tr>\n",
              "    <tr>\n",
              "      <th>...</th>\n",
              "      <td>...</td>\n",
              "      <td>...</td>\n",
              "    </tr>\n",
              "    <tr>\n",
              "      <th>469638478.0</th>\n",
              "      <td>233260000.0</td>\n",
              "      <td>2021</td>\n",
              "    </tr>\n",
              "    <tr>\n",
              "      <th>469638518.0</th>\n",
              "      <td>17549000.0</td>\n",
              "      <td>2021</td>\n",
              "    </tr>\n",
              "    <tr>\n",
              "      <th>469638640.0</th>\n",
              "      <td>7400000.0</td>\n",
              "      <td>2022</td>\n",
              "    </tr>\n",
              "    <tr>\n",
              "      <th>469638448.0</th>\n",
              "      <td>245000000.0</td>\n",
              "      <td>2022</td>\n",
              "    </tr>\n",
              "    <tr>\n",
              "      <th>469638815.0</th>\n",
              "      <td>39000000.0</td>\n",
              "      <td>2022</td>\n",
              "    </tr>\n",
              "  </tbody>\n",
              "</table>\n",
              "<p>476 rows × 2 columns</p>\n",
              "</div>\n",
              "      <button class=\"colab-df-convert\" onclick=\"convertToInteractive('df-5cffbba9-7474-4893-b45a-052fbae5e97a')\"\n",
              "              title=\"Convert this dataframe to an interactive table.\"\n",
              "              style=\"display:none;\">\n",
              "        \n",
              "  <svg xmlns=\"http://www.w3.org/2000/svg\" height=\"24px\"viewBox=\"0 0 24 24\"\n",
              "       width=\"24px\">\n",
              "    <path d=\"M0 0h24v24H0V0z\" fill=\"none\"/>\n",
              "    <path d=\"M18.56 5.44l.94 2.06.94-2.06 2.06-.94-2.06-.94-.94-2.06-.94 2.06-2.06.94zm-11 1L8.5 8.5l.94-2.06 2.06-.94-2.06-.94L8.5 2.5l-.94 2.06-2.06.94zm10 10l.94 2.06.94-2.06 2.06-.94-2.06-.94-.94-2.06-.94 2.06-2.06.94z\"/><path d=\"M17.41 7.96l-1.37-1.37c-.4-.4-.92-.59-1.43-.59-.52 0-1.04.2-1.43.59L10.3 9.45l-7.72 7.72c-.78.78-.78 2.05 0 2.83L4 21.41c.39.39.9.59 1.41.59.51 0 1.02-.2 1.41-.59l7.78-7.78 2.81-2.81c.8-.78.8-2.07 0-2.86zM5.41 20L4 18.59l7.72-7.72 1.47 1.35L5.41 20z\"/>\n",
              "  </svg>\n",
              "      </button>\n",
              "      \n",
              "  <style>\n",
              "    .colab-df-container {\n",
              "      display:flex;\n",
              "      flex-wrap:wrap;\n",
              "      gap: 12px;\n",
              "    }\n",
              "\n",
              "    .colab-df-convert {\n",
              "      background-color: #E8F0FE;\n",
              "      border: none;\n",
              "      border-radius: 50%;\n",
              "      cursor: pointer;\n",
              "      display: none;\n",
              "      fill: #1967D2;\n",
              "      height: 32px;\n",
              "      padding: 0 0 0 0;\n",
              "      width: 32px;\n",
              "    }\n",
              "\n",
              "    .colab-df-convert:hover {\n",
              "      background-color: #E2EBFA;\n",
              "      box-shadow: 0px 1px 2px rgba(60, 64, 67, 0.3), 0px 1px 3px 1px rgba(60, 64, 67, 0.15);\n",
              "      fill: #174EA6;\n",
              "    }\n",
              "\n",
              "    [theme=dark] .colab-df-convert {\n",
              "      background-color: #3B4455;\n",
              "      fill: #D2E3FC;\n",
              "    }\n",
              "\n",
              "    [theme=dark] .colab-df-convert:hover {\n",
              "      background-color: #434B5C;\n",
              "      box-shadow: 0px 1px 3px 1px rgba(0, 0, 0, 0.15);\n",
              "      filter: drop-shadow(0px 1px 2px rgba(0, 0, 0, 0.3));\n",
              "      fill: #FFFFFF;\n",
              "    }\n",
              "  </style>\n",
              "\n",
              "      <script>\n",
              "        const buttonEl =\n",
              "          document.querySelector('#df-5cffbba9-7474-4893-b45a-052fbae5e97a button.colab-df-convert');\n",
              "        buttonEl.style.display =\n",
              "          google.colab.kernel.accessAllowed ? 'block' : 'none';\n",
              "\n",
              "        async function convertToInteractive(key) {\n",
              "          const element = document.querySelector('#df-5cffbba9-7474-4893-b45a-052fbae5e97a');\n",
              "          const dataTable =\n",
              "            await google.colab.kernel.invokeFunction('convertToInteractive',\n",
              "                                                     [key], {});\n",
              "          if (!dataTable) return;\n",
              "\n",
              "          const docLinkHtml = 'Like what you see? Visit the ' +\n",
              "            '<a target=\"_blank\" href=https://colab.research.google.com/notebooks/data_table.ipynb>data table notebook</a>'\n",
              "            + ' to learn more about interactive tables.';\n",
              "          element.innerHTML = '';\n",
              "          dataTable['output_type'] = 'display_data';\n",
              "          await google.colab.output.renderOutput(dataTable, element);\n",
              "          const docLink = document.createElement('div');\n",
              "          docLink.innerHTML = docLinkHtml;\n",
              "          element.appendChild(docLink);\n",
              "        }\n",
              "      </script>\n",
              "    </div>\n",
              "  </div>\n",
              "  "
            ]
          },
          "metadata": {},
          "execution_count": 502
        }
      ]
    },
    {
      "cell_type": "code",
      "source": [
        "plt.figure(figsize=(10, 10))\n",
        "plt.scatter(specific_years, sum)\n",
        "plt.xlabel('years', fontsize=16)\n",
        "plt.ylabel('sum of values for each BASEINFO_RECORDID', fontsize=16)\n",
        "plt.grid()\n",
        "plt.show()"
      ],
      "metadata": {
        "colab": {
          "base_uri": "https://localhost:8080/",
          "height": 621
        },
        "id": "BCmgKNrHUuqK",
        "outputId": "9ac40659-d151-490f-c3ba-2682c5810193"
      },
      "execution_count": null,
      "outputs": [
        {
          "output_type": "display_data",
          "data": {
            "text/plain": [
              "<Figure size 720x720 with 1 Axes>"
            ],
            "image/png": "[encoded data removed]"
          },
          "metadata": {
            "needs_background": "light"
          }
        }
      ]
    },
    {
      "cell_type": "markdown",
      "source": [
        "####COSTCENTER_ID"
      ],
      "metadata": {
        "id": "K7pu0O5BmGKs"
      }
    },
    {
      "cell_type": "code",
      "source": [
        "PRODUCTINSTANCE_TABLE = PRODUCTINSTANCE_Y.copy(True)\n",
        "PRODUCTINSTANCE_TABLE.dropna(subset=['C_COSTCENTER_ID'], inplace=True)\n",
        "\n",
        "PRODUCTINSTANCE_TABLE = PRODUCTINSTANCE_TABLE.astype({'C_COSTCENTER_ID': str})\n",
        "PRODUCTINSTANCE_TABLE = PRODUCTINSTANCE_TABLE[PRODUCTINSTANCE_TABLE['C_COSTCENTER_ID'].str.contains('^[0-9]+\\.?\\d*$')]\n",
        "PRODUCTINSTANCE_TABLE = PRODUCTINSTANCE_TABLE.astype({'C_COSTCENTER_ID': float})\n",
        "PRODUCTINSTANCE_TABLE = PRODUCTINSTANCE_TABLE.reset_index(drop=True)\n",
        "\n",
        "CREATED = PRODUCTINSTANCE_TABLE.loc[:,'CREATED']\n",
        "C_COSTCENTER_ID_NEW_Y = list(PRODUCTINSTANCE_TABLE.loc[:,'C_COSTCENTER_ID'])\n",
        "values_Y = list(PRODUCTINSTANCE_TABLE.loc[:,'PRIMALVALUE'])"
      ],
      "metadata": {
        "id": "PsucEMBRmGKs"
      },
      "execution_count": null,
      "outputs": []
    },
    {
      "cell_type": "code",
      "source": [
        "years = []\n",
        "for i in range(len(CREATED)):\n",
        "  y = pd.to_datetime(CREATED[i], format='%m/%d/%Y %H:%M').year\n",
        "  years.append(y)"
      ],
      "metadata": {
        "id": "_i_yVuRxmGKs"
      },
      "execution_count": null,
      "outputs": []
    },
    {
      "cell_type": "code",
      "source": [
        "specific_years = []\n",
        "COSTCENTER_IDs = []\n",
        "sum = []\n",
        "\n",
        "get_year(C_COSTCENTER_ID_NEW_Y, duplicates_cost_center, years, COSTCENTER_IDs, specific_years, values_Y, sum)\n",
        "get_year(C_COSTCENTER_ID_NEW_Y, non_duplicates_cost_center, years, COSTCENTER_IDs, specific_years, values_Y, sum)"
      ],
      "metadata": {
        "id": "B4OcCCPAmGKs"
      },
      "execution_count": null,
      "outputs": []
    },
    {
      "cell_type": "code",
      "source": [
        "df = pd.DataFrame({\n",
        "    'C_COSTCENTER_ID': COSTCENTER_IDs,\n",
        "    'sum of values': sum,\n",
        "    'frequent financial_year': specific_years\n",
        "})\n",
        "\n",
        "df.set_index('C_COSTCENTER_ID')"
      ],
      "metadata": {
        "colab": {
          "base_uri": "https://localhost:8080/",
          "height": 455
        },
        "outputId": "5ea0adac-0208-4e37-8755-87ef4ad999eb",
        "id": "r_Vz1PHHmGKt"
      },
      "execution_count": null,
      "outputs": [
        {
          "output_type": "execute_result",
          "data": {
            "text/plain": [
              "                 sum of values  frequent financial_year\n",
              "C_COSTCENTER_ID                                        \n",
              "210032641.0       3.477972e+07                     2015\n",
              "265166850.0       5.874420e+09                     2015\n",
              "210032643.0       2.273541e+08                     2015\n",
              "210032644.0       2.944007e+08                     2015\n",
              "210032642.0       8.299850e+07                     2015\n",
              "...                        ...                      ...\n",
              "469638213.0       6.055000e+06                     2018\n",
              "1901.0            2.500000e+06                     2019\n",
              "469638204.0       3.650000e+06                     2019\n",
              "469638299.0       2.234500e+07                     2021\n",
              "469638296.0       2.000000e+07                     2021\n",
              "\n",
              "[255 rows x 2 columns]"
            ],
            "text/html": [
              "\n",
              "  <div id=\"df-e309a624-bf7f-43af-95b7-6f5cb0f40258\">\n",
              "    <div class=\"colab-df-container\">\n",
              "      <div>\n",
              "<style scoped>\n",
              "    .dataframe tbody tr th:only-of-type {\n",
              "        vertical-align: middle;\n",
              "    }\n",
              "\n",
              "    .dataframe tbody tr th {\n",
              "        vertical-align: top;\n",
              "    }\n",
              "\n",
              "    .dataframe thead th {\n",
              "        text-align: right;\n",
              "    }\n",
              "</style>\n",
              "<table border=\"1\" class=\"dataframe\">\n",
              "  <thead>\n",
              "    <tr style=\"text-align: right;\">\n",
              "      <th></th>\n",
              "      <th>sum of values</th>\n",
              "      <th>frequent financial_year</th>\n",
              "    </tr>\n",
              "    <tr>\n",
              "      <th>C_COSTCENTER_ID</th>\n",
              "      <th></th>\n",
              "      <th></th>\n",
              "    </tr>\n",
              "  </thead>\n",
              "  <tbody>\n",
              "    <tr>\n",
              "      <th>210032641.0</th>\n",
              "      <td>3.477972e+07</td>\n",
              "      <td>2015</td>\n",
              "    </tr>\n",
              "    <tr>\n",
              "      <th>265166850.0</th>\n",
              "      <td>5.874420e+09</td>\n",
              "      <td>2015</td>\n",
              "    </tr>\n",
              "    <tr>\n",
              "      <th>210032643.0</th>\n",
              "      <td>2.273541e+08</td>\n",
              "      <td>2015</td>\n",
              "    </tr>\n",
              "    <tr>\n",
              "      <th>210032644.0</th>\n",
              "      <td>2.944007e+08</td>\n",
              "      <td>2015</td>\n",
              "    </tr>\n",
              "    <tr>\n",
              "      <th>210032642.0</th>\n",
              "      <td>8.299850e+07</td>\n",
              "      <td>2015</td>\n",
              "    </tr>\n",
              "    <tr>\n",
              "      <th>...</th>\n",
              "      <td>...</td>\n",
              "      <td>...</td>\n",
              "    </tr>\n",
              "    <tr>\n",
              "      <th>469638213.0</th>\n",
              "      <td>6.055000e+06</td>\n",
              "      <td>2018</td>\n",
              "    </tr>\n",
              "    <tr>\n",
              "      <th>1901.0</th>\n",
              "      <td>2.500000e+06</td>\n",
              "      <td>2019</td>\n",
              "    </tr>\n",
              "    <tr>\n",
              "      <th>469638204.0</th>\n",
              "      <td>3.650000e+06</td>\n",
              "      <td>2019</td>\n",
              "    </tr>\n",
              "    <tr>\n",
              "      <th>469638299.0</th>\n",
              "      <td>2.234500e+07</td>\n",
              "      <td>2021</td>\n",
              "    </tr>\n",
              "    <tr>\n",
              "      <th>469638296.0</th>\n",
              "      <td>2.000000e+07</td>\n",
              "      <td>2021</td>\n",
              "    </tr>\n",
              "  </tbody>\n",
              "</table>\n",
              "<p>255 rows × 2 columns</p>\n",
              "</div>\n",
              "      <button class=\"colab-df-convert\" onclick=\"convertToInteractive('df-e309a624-bf7f-43af-95b7-6f5cb0f40258')\"\n",
              "              title=\"Convert this dataframe to an interactive table.\"\n",
              "              style=\"display:none;\">\n",
              "        \n",
              "  <svg xmlns=\"http://www.w3.org/2000/svg\" height=\"24px\"viewBox=\"0 0 24 24\"\n",
              "       width=\"24px\">\n",
              "    <path d=\"M0 0h24v24H0V0z\" fill=\"none\"/>\n",
              "    <path d=\"M18.56 5.44l.94 2.06.94-2.06 2.06-.94-2.06-.94-.94-2.06-.94 2.06-2.06.94zm-11 1L8.5 8.5l.94-2.06 2.06-.94-2.06-.94L8.5 2.5l-.94 2.06-2.06.94zm10 10l.94 2.06.94-2.06 2.06-.94-2.06-.94-.94-2.06-.94 2.06-2.06.94z\"/><path d=\"M17.41 7.96l-1.37-1.37c-.4-.4-.92-.59-1.43-.59-.52 0-1.04.2-1.43.59L10.3 9.45l-7.72 7.72c-.78.78-.78 2.05 0 2.83L4 21.41c.39.39.9.59 1.41.59.51 0 1.02-.2 1.41-.59l7.78-7.78 2.81-2.81c.8-.78.8-2.07 0-2.86zM5.41 20L4 18.59l7.72-7.72 1.47 1.35L5.41 20z\"/>\n",
              "  </svg>\n",
              "      </button>\n",
              "      \n",
              "  <style>\n",
              "    .colab-df-container {\n",
              "      display:flex;\n",
              "      flex-wrap:wrap;\n",
              "      gap: 12px;\n",
              "    }\n",
              "\n",
              "    .colab-df-convert {\n",
              "      background-color: #E8F0FE;\n",
              "      border: none;\n",
              "      border-radius: 50%;\n",
              "      cursor: pointer;\n",
              "      display: none;\n",
              "      fill: #1967D2;\n",
              "      height: 32px;\n",
              "      padding: 0 0 0 0;\n",
              "      width: 32px;\n",
              "    }\n",
              "\n",
              "    .colab-df-convert:hover {\n",
              "      background-color: #E2EBFA;\n",
              "      box-shadow: 0px 1px 2px rgba(60, 64, 67, 0.3), 0px 1px 3px 1px rgba(60, 64, 67, 0.15);\n",
              "      fill: #174EA6;\n",
              "    }\n",
              "\n",
              "    [theme=dark] .colab-df-convert {\n",
              "      background-color: #3B4455;\n",
              "      fill: #D2E3FC;\n",
              "    }\n",
              "\n",
              "    [theme=dark] .colab-df-convert:hover {\n",
              "      background-color: #434B5C;\n",
              "      box-shadow: 0px 1px 3px 1px rgba(0, 0, 0, 0.15);\n",
              "      filter: drop-shadow(0px 1px 2px rgba(0, 0, 0, 0.3));\n",
              "      fill: #FFFFFF;\n",
              "    }\n",
              "  </style>\n",
              "\n",
              "      <script>\n",
              "        const buttonEl =\n",
              "          document.querySelector('#df-e309a624-bf7f-43af-95b7-6f5cb0f40258 button.colab-df-convert');\n",
              "        buttonEl.style.display =\n",
              "          google.colab.kernel.accessAllowed ? 'block' : 'none';\n",
              "\n",
              "        async function convertToInteractive(key) {\n",
              "          const element = document.querySelector('#df-e309a624-bf7f-43af-95b7-6f5cb0f40258');\n",
              "          const dataTable =\n",
              "            await google.colab.kernel.invokeFunction('convertToInteractive',\n",
              "                                                     [key], {});\n",
              "          if (!dataTable) return;\n",
              "\n",
              "          const docLinkHtml = 'Like what you see? Visit the ' +\n",
              "            '<a target=\"_blank\" href=https://colab.research.google.com/notebooks/data_table.ipynb>data table notebook</a>'\n",
              "            + ' to learn more about interactive tables.';\n",
              "          element.innerHTML = '';\n",
              "          dataTable['output_type'] = 'display_data';\n",
              "          await google.colab.output.renderOutput(dataTable, element);\n",
              "          const docLink = document.createElement('div');\n",
              "          docLink.innerHTML = docLinkHtml;\n",
              "          element.appendChild(docLink);\n",
              "        }\n",
              "      </script>\n",
              "    </div>\n",
              "  </div>\n",
              "  "
            ]
          },
          "metadata": {},
          "execution_count": 509
        }
      ]
    },
    {
      "cell_type": "code",
      "source": [
        "plt.figure(figsize=(10, 10))\n",
        "plt.scatter(specific_years, sum)\n",
        "plt.xlabel('years', fontsize=16)\n",
        "plt.ylabel('sum of values for each C_COSTCENTER_ID', fontsize=16)\n",
        "plt.grid()\n",
        "plt.show()"
      ],
      "metadata": {
        "colab": {
          "base_uri": "https://localhost:8080/",
          "height": 621
        },
        "outputId": "5aef68e0-a5c6-469a-a12c-cbe13d3ccba0",
        "id": "bynC-6G1mGKt"
      },
      "execution_count": null,
      "outputs": [
        {
          "output_type": "display_data",
          "data": {
            "text/plain": [
              "<Figure size 720x720 with 1 Axes>"
            ],
            "image/png": "[encoded data removed]"
          },
          "metadata": {
            "needs_background": "light"
          }
        }
      ]
    }
  ]
}